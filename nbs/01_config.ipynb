{
 "cells": [
  {
   "cell_type": "code",
   "execution_count": null,
   "id": "929f165e",
   "metadata": {},
   "outputs": [],
   "source": [
    "#|default_exp config"
   ]
  },
  {
   "cell_type": "markdown",
   "id": "8d5eaf1e",
   "metadata": {},
   "source": [
    "# ShellSage Configuration"
   ]
  },
  {
   "cell_type": "markdown",
   "id": "11feb5d9",
   "metadata": {},
   "source": [
    "## Imports"
   ]
  },
  {
   "cell_type": "code",
   "execution_count": null,
   "id": "9501ca27",
   "metadata": {},
   "outputs": [],
   "source": [
    "#| export\n",
    "from dataclasses import dataclass\n",
    "from fastcore.all import *\n",
    "from fastcore.xdg import *\n",
    "from typing import get_type_hints\n",
    "\n",
    "import claudette as cla, cosette as cos"
   ]
  },
  {
   "cell_type": "code",
   "execution_count": null,
   "id": "a3f34f9f",
   "metadata": {},
   "outputs": [],
   "source": [
    "#|export\n",
    "_shell_sage_home_dir = 'shell_sage' # sub-directory of xdg base dir\n",
    "_shell_sage_cfg_name = 'shell_sage.conf'"
   ]
  },
  {
   "cell_type": "code",
   "execution_count": null,
   "id": "9c132dc0",
   "metadata": {},
   "outputs": [],
   "source": [
    "#|export\n",
    "def _cfg_path(): return xdg_config_home() / _shell_sage_home_dir / _shell_sage_cfg_name"
   ]
  },
  {
   "cell_type": "code",
   "execution_count": null,
   "id": "bbf3100d",
   "metadata": {},
   "outputs": [
    {
     "data": {
      "text/plain": [
       "Path('/Users/nathan/.config/shell_sage/shell_sage.conf')"
      ]
     },
     "execution_count": null,
     "metadata": {},
     "output_type": "execute_result"
    }
   ],
   "source": [
    "_cfg_path()"
   ]
  },
  {
   "cell_type": "code",
   "execution_count": null,
   "id": "25b71dc6",
   "metadata": {},
   "outputs": [],
   "source": [
    "#| export\n",
    "providers = {\n",
    "    'anthropic': cla.models,\n",
    "    'openai': cos.models\n",
    "}"
   ]
  },
  {
   "cell_type": "code",
   "execution_count": null,
   "id": "d7c2100c",
   "metadata": {},
   "outputs": [
    {
     "data": {
      "text/plain": [
       "{'anthropic': ['claude-3-opus-20240229',\n",
       "  'claude-3-5-sonnet-20241022',\n",
       "  'claude-3-haiku-20240307',\n",
       "  'claude-3-5-haiku-20241022'],\n",
       " 'openai': ('o1-preview',\n",
       "  'o1-mini',\n",
       "  'gpt-4o',\n",
       "  'gpt-4o-mini',\n",
       "  'gpt-4-turbo',\n",
       "  'gpt-4',\n",
       "  'gpt-4-32k',\n",
       "  'gpt-3.5-turbo',\n",
       "  'gpt-3.5-turbo-instruct')}"
      ]
     },
     "execution_count": null,
     "metadata": {},
     "output_type": "execute_result"
    }
   ],
   "source": [
    "providers"
   ]
  },
  {
   "cell_type": "code",
   "execution_count": null,
   "id": "9a8ce1d2",
   "metadata": {},
   "outputs": [],
   "source": [
    "#| export\n",
    "@dataclass\n",
    "class ShellSageConfig:\n",
    "    provider: str = \"anthropic\"\n",
    "    model: str = providers['anthropic'][1]\n",
    "    base_url: str = ''\n",
    "    api_key: str = ''\n",
    "    history_lines: int = -1\n",
    "    code_theme: str = \"monokai\"\n",
    "    code_lexer: str = \"python\"\n",
    "    log: bool = False"
   ]
  },
  {
   "cell_type": "code",
   "execution_count": null,
   "id": "2575f09b",
   "metadata": {},
   "outputs": [
    {
     "data": {
      "text/plain": [
       "ShellSageConfig(provider='anthropic', model='claude-3-5-sonnet-20241022', base_url='', api_key='', history_lines=-1, code_theme='monokai', code_lexer='python', log=False)"
      ]
     },
     "execution_count": null,
     "metadata": {},
     "output_type": "execute_result"
    }
   ],
   "source": [
    "cfg = ShellSageConfig()\n",
    "cfg"
   ]
  },
  {
   "cell_type": "code",
   "execution_count": null,
   "id": "38e35cce",
   "metadata": {},
   "outputs": [],
   "source": [
    "#|export\n",
    "def get_cfg():\n",
    "    path = _cfg_path()\n",
    "    path.parent.mkdir(parents=True, exist_ok=True)\n",
    "    _types = get_type_hints(ShellSageConfig)\n",
    "    return Config(path.parent, path.name, create=asdict(ShellSageConfig()),\n",
    "                  types=_types, inline_comment_prefixes=('#'))"
   ]
  },
  {
   "cell_type": "code",
   "execution_count": null,
   "id": "efd3d92c",
   "metadata": {},
   "outputs": [],
   "source": [
    "# cfg = get_cfg()\n",
    "# cfg"
   ]
  }
 ],
 "metadata": {
  "kernelspec": {
   "display_name": "python3",
   "language": "python",
   "name": "python3"
  }
 },
 "nbformat": 4,
 "nbformat_minor": 5
}
