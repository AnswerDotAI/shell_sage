{
 "cells": [
  {
   "cell_type": "code",
   "execution_count": null,
   "id": "929f165e",
   "metadata": {},
   "outputs": [],
   "source": [
    "#|default_exp config"
   ]
  },
  {
   "cell_type": "markdown",
   "id": "8d5eaf1e",
   "metadata": {},
   "source": [
    "# Configuration"
   ]
  },
  {
   "cell_type": "markdown",
   "id": "11feb5d9",
   "metadata": {},
   "source": [
    "## Imports"
   ]
  },
  {
   "cell_type": "code",
   "execution_count": null,
   "id": "9501ca27",
   "metadata": {},
   "outputs": [],
   "source": [
    "#| export\n",
    "from dataclasses import dataclass\n",
    "from fastcore.all import *\n",
    "from fastcore.xdg import *\n",
    "from typing import get_type_hints"
   ]
  },
  {
   "cell_type": "code",
   "execution_count": null,
   "id": "a3f34f9f",
   "metadata": {},
   "outputs": [],
   "source": [
    "#|export\n",
    "_shell_sage_home_dir = 'shell_sage' # sub-directory of xdg base dir\n",
    "_shell_sage_cfg_name = 'shell_sage.conf'"
   ]
  },
  {
   "cell_type": "code",
   "execution_count": null,
   "id": "9c132dc0",
   "metadata": {},
   "outputs": [],
   "source": [
    "#|export\n",
    "def _cfg_path(): return xdg_config_home() / _shell_sage_home_dir / _shell_sage_cfg_name"
   ]
  },
  {
   "cell_type": "code",
   "execution_count": null,
   "id": "bbf3100d",
   "metadata": {},
   "outputs": [
    {
     "data": {
      "text/plain": [
       "Path('/home/natedawg/.config/shell_sage/shell_sage.conf')"
      ]
     },
     "execution_count": null,
     "metadata": {},
     "output_type": "execute_result"
    }
   ],
   "source": [
    "_cfg_path()"
   ]
  },
  {
   "cell_type": "code",
   "execution_count": null,
   "id": "9a8ce1d2",
   "metadata": {},
   "outputs": [],
   "source": [
    "#| export\n",
    "@dataclass\n",
    "class ShellSageConfig:\n",
    "    model: str = 'claude-sonnet-4-5-20250929'\n",
    "    search: str = ''\n",
    "    mode: str = 'default'\n",
    "    api_base: str = ''\n",
    "    api_key: str = ''\n",
    "    history_lines: int = -1\n",
    "    code_theme: str = \"monokai\"\n",
    "    code_lexer: str = \"python\"\n",
    "    log: bool = False"
   ]
  },
  {
   "cell_type": "code",
   "execution_count": null,
   "id": "2575f09b",
   "metadata": {},
   "outputs": [
    {
     "data": {
      "text/plain": [
       "ShellSageConfig(model='claude-sonnet-4-5-20250929', search='', mode='default', api_base='', api_key='', history_lines=-1, code_theme='monokai', code_lexer='python', log=False)"
      ]
     },
     "execution_count": null,
     "metadata": {},
     "output_type": "execute_result"
    }
   ],
   "source": [
    "cfg = ShellSageConfig()\n",
    "cfg"
   ]
  },
  {
   "cell_type": "code",
   "execution_count": null,
   "id": "38e35cce",
   "metadata": {},
   "outputs": [],
   "source": [
    "#|export\n",
    "def get_cfg():\n",
    "    path = _cfg_path()\n",
    "    path.parent.mkdir(parents=True, exist_ok=True)\n",
    "    _types = get_type_hints(ShellSageConfig)\n",
    "    return Config(path.parent, path.name, create=asdict(ShellSageConfig()),\n",
    "                  types=_types, inline_comment_prefixes=('#'))"
   ]
  },
  {
   "cell_type": "code",
   "execution_count": null,
   "id": "efd3d92c",
   "metadata": {},
   "outputs": [],
   "source": [
    "# cfg = get_cfg()\n",
    "# cfg"
   ]
  }
 ],
 "metadata": {},
 "nbformat": 4,
 "nbformat_minor": 5
}
