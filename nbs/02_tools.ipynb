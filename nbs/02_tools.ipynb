{
 "cells": [
  {
   "cell_type": "code",
   "execution_count": null,
   "metadata": {},
   "outputs": [],
   "source": [
    "#|default_exp tools"
   ]
  },
  {
   "cell_type": "markdown",
   "metadata": {},
   "source": [
    "# ShellSage Tools"
   ]
  },
  {
   "cell_type": "code",
   "execution_count": null,
   "metadata": {},
   "outputs": [],
   "source": [
    "#| export\n",
    "from pathlib import Path\n",
    "from subprocess import run"
   ]
  },
  {
   "cell_type": "code",
   "execution_count": null,
   "metadata": {},
   "outputs": [],
   "source": [
    "#| export\n",
    "def rgrep(term:str, path:str='.', grep_args:str='')->str:\n",
    "    \"Perform recursive grep search for `term` in `path` with optional grep arguments\"\n",
    "    # Build grep command with additional arguments\n",
    "    path = Path(path).expanduser().resolve()\n",
    "    cmd = f\"grep -r '{term}' {path} {grep_args}\"\n",
    "    return run(cmd, shell=True, capture_output=True, text=True).stdout"
   ]
  },
  {
   "cell_type": "code",
   "execution_count": null,
   "metadata": {},
   "outputs": [
    {
     "name": "stdout",
     "output_type": "stream",
     "text": [
      "/Users/nathan/git/shell_sage/nbs/_quarto.yml-  open-graph: true\n",
      "/Users/nathan/git/shell_sage/nbs/_quarto.yml-  repo-actions: [issue]\n",
      "/Users/nathan/git/shell_sage/nbs/_quarto.yml:  navbar:\n",
      "/Users/nathan/git/shell_sage/nbs/_quarto.yml-    background: primary\n",
      "/Users/nathan/git/shell_sage/nbs/_quarto.yml-    search: true\n",
      "--\n",
      "/Users/nathan/git/shell_sage/nbs/02_tools.ipynb-   \"outputs\": [],\n",
      "/Users/nathan/git/shell_sage/nbs/02_tools.ipynb-   \"source\": [\n",
      "/Users/nathan/git/shell_sage/nbs/02_tools.ipynb:    \"# print(rgrep('navbar', '.', '--context 1'))\"\n",
      "/Users/nathan/git/shell_sage/nbs/02_tools.ipynb-   ]\n",
      "/Users/nathan/git/shell_sage/nbs/02_tools.ipynb-  },\n",
      "\n"
     ]
    }
   ],
   "source": [
    "print(rgrep('navbar', '.', '--context 1'))"
   ]
  },
  {
   "cell_type": "code",
   "execution_count": null,
   "metadata": {},
   "outputs": [],
   "source": [
    "#| export\n",
    "def view(path:str, rng:tuple[int,int]=None, nums:bool=False):\n",
    "    \"View directory or file contents with optional line range and numbers\"\n",
    "    try:\n",
    "        p = Path(path).expanduser().resolve()\n",
    "        if not p.exists(): return f\"Error: File not found: {p}\"\n",
    "        if p.is_dir(): return f\"Directory contents of {p}:\\n\" + \"\\n\".join([str(f) for f in p.glob(\"**/*\")\n",
    "                                                                           if not f.name.startswith(\".\")])\n",
    "        \n",
    "        lines = p.read_text().splitlines()\n",
    "        s,e = 1,len(lines)\n",
    "        if rng:\n",
    "            s,e = rng\n",
    "            if not (1 <= s <= len(lines)): return f\"Error: Invalid start line {s}\"\n",
    "            if e != -1 and not (s <= e <= len(lines)): return f\"Error: Invalid end line {e}\"\n",
    "            lines = lines[s-1:None if e==-1 else e]\n",
    "            \n",
    "        return \"\\n\".join([f\"{i+s-1:6d} │ {l}\" for i,l in enumerate(lines,1)] if nums else lines)\n",
    "    except Exception as e: return f\"Error viewing file: {str(e)}\""
   ]
  },
  {
   "cell_type": "code",
   "execution_count": null,
   "metadata": {},
   "outputs": [
    {
     "name": "stdout",
     "output_type": "stream",
     "text": [
      "Directory contents of /Users/nathan/git/shell_sage/nbs:\n",
      "/Users/nathan/git/shell_sage/nbs/00_core.ipynb\n",
      "/Users/nathan/git/shell_sage/nbs/_quarto.yml\n",
      "/Users/nathan/git/shell_sage/nbs/02_tools.ipynb\n",
      "/Users/nathan/git/shell_sage/nbs/styles.css\n",
      "/Users/nathan/git/shell_sage/nbs/CNAME\n",
      "/Users/nathan/git/shell_sage/nbs/01_config.ipynb\n",
      "/Users/nathan/git/shell_sage/nbs/nbdev.yml\n",
      "/Users/nathan/git/shell_sage/nbs/index.ipynb\n",
      "/Users/nathan/git/shell_sage/nbs/tmp.conf\n",
      "/Users/nathan/git/shell_sage/nbs/.ipynb_checkpoints/01_config-checkpoint.ipynb\n",
      "/Users/nathan/git/shell_sage/nbs/.ipynb_checkpoints/index-checkpoint.ipynb\n",
      "/Users/nathan/git/shell_sage/nbs/.ipynb_checkpoints/00_core-checkpoint.ipynb\n"
     ]
    }
   ],
   "source": [
    "print(view('.'))"
   ]
  },
  {
   "cell_type": "code",
   "execution_count": null,
   "metadata": {},
   "outputs": [
    {
     "name": "stdout",
     "output_type": "stream",
     "text": [
      "     1 │ project:\n",
      "     2 │   type: website\n",
      "     3 │ \n",
      "     4 │ format:\n",
      "     5 │   html:\n",
      "     6 │     theme: cosmo\n",
      "     7 │     css: styles.css\n",
      "     8 │     toc: true\n",
      "     9 │     keep-md: true\n",
      "    10 │   commonmark: default\n"
     ]
    }
   ],
   "source": [
    "print(view('_quarto.yml', (1,10), nums=True))"
   ]
  },
  {
   "cell_type": "code",
   "execution_count": null,
   "metadata": {},
   "outputs": [],
   "source": [
    "#| export\n",
    "def create(path: str, file_text: str, overwrite:bool=False) -> str:\n",
    "    \"Creates a new file with the given content at the specified path\"\n",
    "    try:\n",
    "        p = Path(path)\n",
    "        if p.exists():\n",
    "            if not overwrite: return f\"Error: File already exists: {p}\"\n",
    "        p.parent.mkdir(parents=True, exist_ok=True)\n",
    "        p.write_text(file_text)\n",
    "        return f\"Created file {p} containing:\\n{file_text}\"\n",
    "    except Exception as e: return f\"Error creating file: {str(e)}\""
   ]
  },
  {
   "cell_type": "code",
   "execution_count": null,
   "metadata": {},
   "outputs": [
    {
     "name": "stdout",
     "output_type": "stream",
     "text": [
      "Created file test.txt containing:\n",
      "Hello, world!\n",
      "     1 │ Hello, world!\n"
     ]
    }
   ],
   "source": [
    "print(create('test.txt', 'Hello, world!'))\n",
    "print(view('test.txt', nums=True))"
   ]
  },
  {
   "cell_type": "code",
   "execution_count": null,
   "metadata": {},
   "outputs": [],
   "source": [
    "#| export\n",
    "def insert(path: str, insert_line: int, new_str: str) -> str:\n",
    "    \"Insert new_str at specified line number\"\n",
    "    try:\n",
    "        p = Path(path)\n",
    "        if not p.exists(): return f\"Error: File not found: {p}\"\n",
    "            \n",
    "        content = p.read_text().splitlines()\n",
    "        if not (0 <= insert_line <= len(content)): return f\"Error: Invalid line number {insert_line}\"\n",
    "            \n",
    "        content.insert(insert_line, new_str)\n",
    "        new_content = \"\\n\".join(content)\n",
    "        p.write_text(new_content)\n",
    "        return f\"Inserted text at line {insert_line} in {p}.\\nNew contents:\\n{new_content}\"\n",
    "    except Exception as e: return f\"Error inserting text: {str(e)}\""
   ]
  },
  {
   "cell_type": "code",
   "execution_count": null,
   "metadata": {},
   "outputs": [
    {
     "name": "stdout",
     "output_type": "stream",
     "text": [
      "     1 │ Let's add a new line\n",
      "     2 │ Hello, world!\n"
     ]
    }
   ],
   "source": [
    "insert('test.txt', 0, 'Let\\'s add a new line')\n",
    "print(view('test.txt', nums=True))"
   ]
  },
  {
   "cell_type": "code",
   "execution_count": null,
   "metadata": {},
   "outputs": [],
   "source": [
    "#| export\n",
    "def str_replace(path: str, old_str: str, new_str: str) -> str:\n",
    "    \"Replace first occurrence of old_str with new_str in file\"\n",
    "    try:\n",
    "        p = Path(path)\n",
    "        if not p.exists(): return f\"Error: File not found: {p}\"\n",
    "            \n",
    "        content = p.read_text()\n",
    "        count = content.count(old_str)\n",
    "        \n",
    "        if count == 0: return \"Error: Text not found in file\"\n",
    "        if count > 1: return f\"Error: Multiple matches found ({count})\"\n",
    "            \n",
    "        new_content = content.replace(old_str, new_str, 1)\n",
    "        p.write_text(new_content)\n",
    "        return f\"Replaced text in {p}.\\nNew contents:\\n{new_content}\"\n",
    "    except Exception as e: return f\"Error replacing text: {str(e)}\""
   ]
  },
  {
   "cell_type": "code",
   "execution_count": null,
   "metadata": {},
   "outputs": [
    {
     "name": "stdout",
     "output_type": "stream",
     "text": [
      "     1 │ Let's add a <we replaced this part!>\n",
      "     2 │ Hello, world!\n"
     ]
    }
   ],
   "source": [
    "str_replace('test.txt', 'new line', '<we replaced this part!>')\n",
    "print(view('test.txt', nums=True))"
   ]
  },
  {
   "cell_type": "code",
   "execution_count": null,
   "metadata": {},
   "outputs": [],
   "source": [
    "#| export\n",
    "tools = [rgrep, view, create, insert, str_replace]"
   ]
  }
 ],
 "metadata": {
  "kernelspec": {
   "display_name": "python3",
   "language": "python",
   "name": "python3"
  }
 },
 "nbformat": 4,
 "nbformat_minor": 2
}
