{
 "cells": [
  {
   "cell_type": "code",
   "execution_count": null,
   "id": "929f165e",
   "metadata": {},
   "outputs": [],
   "source": [
    "#|default_exp rag"
   ]
  },
  {
   "cell_type": "markdown",
   "id": "8d5eaf1e",
   "metadata": {},
   "source": [
    "# ShellSage Retrieval Augmented Generation"
   ]
  },
  {
   "cell_type": "markdown",
   "id": "11feb5d9",
   "metadata": {},
   "source": [
    "## Imports"
   ]
  },
  {
   "cell_type": "code",
   "execution_count": null,
   "id": "b2f9566d",
   "metadata": {},
   "outputs": [],
   "source": [
    "from chonkie import SentenceChunker\n",
    "from fastcore.all import *\n",
    "from lancedb import connect\n",
    "from lancedb.pydantic import LanceModel, Vector\n",
    "from pathlib import Path\n",
    "from sentence_transformers import SentenceTransformer\n",
    "from sentence_transformers.models import StaticEmbedding\n",
    "from subprocess import check_output as co\n",
    "\n",
    "import re, subprocess"
   ]
  },
  {
   "cell_type": "code",
   "execution_count": null,
   "id": "6e326ae3",
   "metadata": {},
   "outputs": [],
   "source": [
    "import os, random\n",
    "os.environ['TOKENIZERS_PARALLELISM'] = 'false'"
   ]
  },
  {
   "cell_type": "code",
   "execution_count": null,
   "id": "a1ecb07e",
   "metadata": {},
   "outputs": [],
   "source": [
    "#| export\n",
    "# set up db path in user's home directory\n",
    "db_path = Path.home() / \"shell_sage\" / \"db\"\n",
    "db_path.mkdir(parents=True, exist_ok=True)"
   ]
  },
  {
   "cell_type": "code",
   "execution_count": null,
   "id": "b122b4c5",
   "metadata": {},
   "outputs": [],
   "source": [
    "#| export\n",
    "chunker = SentenceChunker(tokenizer=\"gpt2\", chunk_size=2_048,\n",
    "                          chunk_overlap=256, min_sentences_per_chunk=1)"
   ]
  },
  {
   "cell_type": "code",
   "execution_count": null,
   "id": "19f10a4f",
   "metadata": {},
   "outputs": [],
   "source": [
    "#| export\n",
    "static_embedding = StaticEmbedding.from_model2vec(\"minishlab/potion-retrieval-32M\")\n",
    "model = SentenceTransformer(modules=[static_embedding], device=\"cpu\")\n",
    "ndim = model.encode([\"Example sentence\"]).shape[1]"
   ]
  },
  {
   "cell_type": "code",
   "execution_count": null,
   "id": "7ae76c15",
   "metadata": {},
   "outputs": [
    {
     "data": {
      "text/plain": [
       "512"
      ]
     },
     "execution_count": null,
     "metadata": {},
     "output_type": "execute_result"
    }
   ],
   "source": [
    "ndim"
   ]
  },
  {
   "cell_type": "code",
   "execution_count": null,
   "id": "6f6bd2a8",
   "metadata": {},
   "outputs": [],
   "source": [
    "#| export\n",
    "class EmbeddingTable(LanceModel):\n",
    "    content: str\n",
    "    package_name: str\n",
    "    embedding: Vector(ndim)"
   ]
  },
  {
   "cell_type": "code",
   "execution_count": null,
   "id": "7bb739fc",
   "metadata": {},
   "outputs": [],
   "source": [
    "#| export\n",
    "db = connect(db_path)\n",
    "tbl = None\n",
    "try: tbl = db.open_table(\"man_pages\")\n",
    "except ValueError:\n",
    "    tbl = db.create_table(\"man_pages\", schema=EmbeddingTable, mode=\"create\")\n",
    "    tbl.create_fts_index(\"content\") # for hybrid search"
   ]
  },
  {
   "cell_type": "code",
   "execution_count": null,
   "id": "ca74754e",
   "metadata": {},
   "outputs": [
    {
     "data": {
      "text/plain": [
       "(#1) [Path('/Users/nathan/shell_sage/db/man_pages.lance')]"
      ]
     },
     "execution_count": null,
     "metadata": {},
     "output_type": "execute_result"
    }
   ],
   "source": [
    "db_path.ls()"
   ]
  },
  {
   "cell_type": "code",
   "execution_count": null,
   "id": "0e2c11d6",
   "metadata": {},
   "outputs": [],
   "source": [
    "#| export\n",
    "def _get_page(cmd):\n",
    "    try: return cmd, co(['man', cmd], text=True,\n",
    "                   stderr=subprocess.DEVNULL).strip()\n",
    "    except: return cmd, None\n",
    "\n",
    "def clean(text: str) -> str:\n",
    "    \"Cleans man page text by removing backspaces and ANSI escape codes\"\n",
    "\n",
    "    # Remove backspaces\n",
    "    while True:\n",
    "        cleaned = re.sub(r'.\\x08', '', text)\n",
    "        if cleaned == text:\n",
    "            break\n",
    "        text = cleaned\n",
    "\n",
    "    # Remove ANSI escape codes\n",
    "    text = re.sub(r'(?:\\x1B[@-Z\\\\-_]|\\x1B\\[?[\\d;]*[A-PRZcf-nq-uy=><])', '', text)\n",
    "\n",
    "    # Convert multiple newlines into one\n",
    "    text = re.sub(r'\\n+', '\\n', text)\n",
    "    return text.strip()\n",
    "\n",
    "def _man_pages(lim=None):\n",
    "    lines = L(co(['man', '-k', '.'], text=True).strip().splitlines())\n",
    "    lines = lines.filter(lambda s: re.search(r'\\(1[^\\)]*\\)', s))\n",
    "    cmds = (lines.map(lambda s: s.split(\"(\")[0].strip())\n",
    "                 .filter(lambda s: s).unique()[:lim])\n",
    "\n",
    "    pages = parallel(_get_page, cmds).filter(lambda x: x[1])\n",
    "    return zip(*pages.map(lambda x: (x[0], clean(x[1]))))\n"
   ]
  },
  {
   "cell_type": "code",
   "execution_count": null,
   "id": "a5cb76df",
   "metadata": {},
   "outputs": [],
   "source": [
    "cmds, pages = _man_pages(16)"
   ]
  },
  {
   "cell_type": "code",
   "execution_count": null,
   "id": "a1eb2ab3",
   "metadata": {},
   "outputs": [
    {
     "name": "stdout",
     "output_type": "stream",
     "text": [
      "DeRez\n",
      "DeRez(1)                    General Commands Manual                   DeRez(1)\n",
      "NAME\n",
      "       DeRez - decompiles resources (DEPRECA\n"
     ]
    }
   ],
   "source": [
    "idx = random.randint(0, len(pages))\n",
    "cmd, page = cmds[idx], pages[idx]\n",
    "print(cmd)\n",
    "print(page[:128])"
   ]
  },
  {
   "cell_type": "code",
   "execution_count": null,
   "id": "cd97cd61",
   "metadata": {},
   "outputs": [],
   "source": [
    "#| export\n",
    "def index_man_pages(cmds, pages):\n",
    "    for cmd, chunks in zip(cmds, chunker.chunk_batch(pages)):\n",
    "        embds = model.encode([chunk.text for chunk in chunks])\n",
    "        tbl.add([EmbeddingTable(content=c.text, package_name=cmd, embedding=emb)\n",
    "                 for c, emb in zip(chunks, embds)])"
   ]
  },
  {
   "cell_type": "code",
   "execution_count": null,
   "id": "fe9e2318",
   "metadata": {},
   "outputs": [
    {
     "name": "stderr",
     "output_type": "stream",
     "text": [
      "🦛 choooooooooooooooooooonk 100% • 15/15 docs chunked [00:00<00:00, 112.42doc/s] 🌱\n"
     ]
    }
   ],
   "source": [
    "index_man_pages(cmds, pages)"
   ]
  },
  {
   "cell_type": "code",
   "execution_count": null,
   "id": "312ba518",
   "metadata": {},
   "outputs": [],
   "source": [
    "#| export\n",
    "def search(query):\n",
    "    q_emb = model.encode([query])\n",
    "    return tbl.search(q_emb).metric(\"cosine\").limit(2).to_pandas()"
   ]
  },
  {
   "cell_type": "code",
   "execution_count": null,
   "id": "528f7d36",
   "metadata": {},
   "outputs": [
    {
     "data": {
      "text/html": [
       "<div>\n",
       "<style scoped>\n",
       "    .dataframe tbody tr th:only-of-type {\n",
       "        vertical-align: middle;\n",
       "    }\n",
       "\n",
       "    .dataframe tbody tr th {\n",
       "        vertical-align: top;\n",
       "    }\n",
       "\n",
       "    .dataframe thead th {\n",
       "        text-align: right;\n",
       "    }\n",
       "</style>\n",
       "<table border=\"1\" class=\"dataframe\">\n",
       "  <thead>\n",
       "    <tr style=\"text-align: right;\">\n",
       "      <th></th>\n",
       "      <th>content</th>\n",
       "      <th>package_name</th>\n",
       "      <th>embedding</th>\n",
       "      <th>_distance</th>\n",
       "    </tr>\n",
       "  </thead>\n",
       "  <tbody>\n",
       "    <tr>\n",
       "      <th>0</th>\n",
       "      <td>standard error output if any file...</td>\n",
       "      <td>ar</td>\n",
       "      <td>[0.695339, 1.6662909, 0.04321767, 0.716739, -0...</td>\n",
       "      <td>0.858607</td>\n",
       "    </tr>\n",
       "    <tr>\n",
       "      <th>1</th>\n",
       "      <td>SETFILE(1)                  General Commands M...</td>\n",
       "      <td>SetFile</td>\n",
       "      <td>[0.31140828, 1.8759634, -0.709025, 0.59569347,...</td>\n",
       "      <td>0.861011</td>\n",
       "    </tr>\n",
       "  </tbody>\n",
       "</table>\n",
       "</div>"
      ],
      "text/plain": [
       "                                             content package_name  \\\n",
       "0               standard error output if any file...           ar   \n",
       "1  SETFILE(1)                  General Commands M...      SetFile   \n",
       "\n",
       "                                           embedding  _distance  \n",
       "0  [0.695339, 1.6662909, 0.04321767, 0.716739, -0...   0.858607  \n",
       "1  [0.31140828, 1.8759634, -0.709025, 0.59569347,...   0.861011  "
      ]
     },
     "execution_count": null,
     "metadata": {},
     "output_type": "execute_result"
    }
   ],
   "source": [
    "df = search(\"How can I change my current branch?\")\n",
    "df.head()\n"
   ]
  }
 ],
 "metadata": {
  "kernelspec": {
   "display_name": "python3",
   "language": "python",
   "name": "python3"
  }
 },
 "nbformat": 4,
 "nbformat_minor": 5
}
