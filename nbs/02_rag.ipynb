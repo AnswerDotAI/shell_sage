{
 "cells": [
  {
   "cell_type": "code",
   "execution_count": null,
   "id": "929f165e",
   "metadata": {},
   "outputs": [],
   "source": [
    "#|default_exp rag"
   ]
  },
  {
   "cell_type": "markdown",
   "id": "8d5eaf1e",
   "metadata": {},
   "source": [
    "# ShellSage Retrieval Augmented Generation"
   ]
  },
  {
   "cell_type": "markdown",
   "id": "11feb5d9",
   "metadata": {},
   "source": [
    "## Imports"
   ]
  },
  {
   "cell_type": "code",
   "execution_count": null,
   "id": "b2f9566d",
   "metadata": {},
   "outputs": [],
   "source": [
    "#| export\n",
    "from chonkie import SentenceChunker\n",
    "from fastcore.all import *\n",
    "from lancedb import connect\n",
    "from lancedb.pydantic import LanceModel, Vector\n",
    "from pathlib import Path\n",
    "from sentence_transformers import SentenceTransformer\n",
    "from subprocess import check_output as co\n",
    "\n",
    "import os, re, subprocess\n",
    "os.environ['TOKENIZERS_PARALLELISM'] = 'false'"
   ]
  },
  {
   "cell_type": "code",
   "execution_count": null,
   "id": "6e326ae3",
   "metadata": {},
   "outputs": [],
   "source": [
    "import random"
   ]
  },
  {
   "cell_type": "markdown",
   "id": "7ade9bcf",
   "metadata": {},
   "source": [
    "## Database setup"
   ]
  },
  {
   "cell_type": "code",
   "execution_count": null,
   "id": "a1ecb07e",
   "metadata": {},
   "outputs": [],
   "source": [
    "#| export\n",
    "# set up db path in user's home cache directory\n",
    "db_path = Path.home() / '.cache' / 'shell_sage' / 'db'\n",
    "db_path.mkdir(parents=True, exist_ok=True)"
   ]
  },
  {
   "cell_type": "code",
   "execution_count": null,
   "id": "b122b4c5",
   "metadata": {},
   "outputs": [],
   "source": [
    "#| export\n",
    "chunker = SentenceChunker(tokenizer=\"gpt2\", chunk_size=2_048,\n",
    "                          chunk_overlap=256, min_sentences_per_chunk=1)"
   ]
  },
  {
   "cell_type": "code",
   "execution_count": null,
   "id": "19f10a4f",
   "metadata": {},
   "outputs": [],
   "source": [
    "#| export\n",
    "model = SentenceTransformer('thenlper/gte-small')\n",
    "ndim = model.encode([\"Example sentence\"]).shape[1]"
   ]
  },
  {
   "cell_type": "code",
   "execution_count": null,
   "id": "7ae76c15",
   "metadata": {},
   "outputs": [
    {
     "data": {
      "text/plain": [
       "384"
      ]
     },
     "execution_count": null,
     "metadata": {},
     "output_type": "execute_result"
    }
   ],
   "source": [
    "ndim"
   ]
  },
  {
   "cell_type": "code",
   "execution_count": null,
   "id": "6f6bd2a8",
   "metadata": {},
   "outputs": [],
   "source": [
    "#| export\n",
    "class EmbeddingTable(LanceModel):\n",
    "    content: str\n",
    "    package_name: str\n",
    "    embedding: Vector(ndim)"
   ]
  },
  {
   "cell_type": "code",
   "execution_count": null,
   "id": "7bb739fc",
   "metadata": {},
   "outputs": [],
   "source": [
    "#| export\n",
    "db = connect(db_path)\n",
    "tbl = None\n",
    "try: tbl = db.open_table(\"man_pages\")\n",
    "except ValueError:\n",
    "    tbl = db.create_table(\"man_pages\", schema=EmbeddingTable, mode=\"create\")\n",
    "    tbl.create_fts_index(\"content\") # for hybrid search"
   ]
  },
  {
   "cell_type": "code",
   "execution_count": null,
   "id": "ca74754e",
   "metadata": {},
   "outputs": [
    {
     "data": {
      "text/plain": [
       "(#1) [Path('/Users/nathan/.cache/shell_sage/db/man_pages.lance')]"
      ]
     },
     "execution_count": null,
     "metadata": {},
     "output_type": "execute_result"
    }
   ],
   "source": [
    "db_path.ls()"
   ]
  },
  {
   "cell_type": "markdown",
   "id": "91867f2c",
   "metadata": {},
   "source": [
    "## Man pages"
   ]
  },
  {
   "cell_type": "code",
   "execution_count": null,
   "id": "88a378cd",
   "metadata": {},
   "outputs": [],
   "source": [
    "def _section(cmd, section):\n",
    "    s = co(f'man {cmd} | col -b | sed -n \"/^{section}/,/^[A-Z]/p\" | sed \"$d\"',\n",
    "              shell=True, stderr=subprocess.DEVNULL, text=True).strip()\n",
    "    return '\\n'.join(s.splitlines()[:-1]).strip()"
   ]
  },
  {
   "cell_type": "code",
   "execution_count": null,
   "id": "1fb0119e",
   "metadata": {},
   "outputs": [
    {
     "name": "stdout",
     "output_type": "stream",
     "text": [
      "SYNOPSIS\n",
      "     ls [-@ABCFGHILOPRSTUWabcdefghiklmnopqrstuvwxy1%,] [--color=when]\n",
      "\t[-D format] [file ...]\n",
      "DESCRIPTION\n",
      "     For each operand that names a file of a type other than directory, ls\n",
      "     displays its name as well as any req\n"
     ]
    }
   ],
   "source": [
    "print(_section('ls', 'SYNOPSIS')[:128])\n",
    "print(_section('ls', 'DESCRIPTION')[:128])"
   ]
  },
  {
   "cell_type": "code",
   "execution_count": null,
   "id": "fca42b0a",
   "metadata": {},
   "outputs": [],
   "source": [
    "def _get_page(cmd):\n",
    "    name = _section(cmd, 'NAME')\n",
    "    synopsis = _section(cmd, 'SYNOPSIS')\n",
    "    description = _section(cmd, 'DESCRIPTION')\n",
    "    examples = _section(cmd, 'EXAMPLES')\n",
    "    return cmd, f\"{name}\\n\\n{synopsis}\\n\\n{description}\\n\\n{examples}\".strip()"
   ]
  },
  {
   "cell_type": "code",
   "execution_count": null,
   "id": "78631c04",
   "metadata": {},
   "outputs": [
    {
     "name": "stdout",
     "output_type": "stream",
     "text": [
      "NAME\n",
      "     ls – list directory contents\n",
      "\n",
      "SYNOPSIS\n",
      "     ls [-@ABCFGHILOPRSTUWabcdefghiklmnopqrstuvwxy1%,] [--color=when]\n",
      "\t[-D format] [file ...]\n",
      "\n",
      "DESCRIPTION\n",
      "     For each operand that names a file of a type other than directory, ls\n",
      "     displays its name as\n",
      "...\n",
      "used in conjunction with the -l option.\n",
      "\n",
      "EXAMPLES\n",
      "     List the contents of the current working directory in long format:\n",
      "\n",
      "\t   $ ls -l\n",
      "\n",
      "     In addition to listing the contents of the current working directory in\n",
      "     long format, show inode numbers, file flags (see chflags(1)), and suffix\n",
      "     each filename with a symbol representing its file type:\n",
      "\n",
      "\t   $ ls -lioF\n",
      "\n",
      "     List the files in /var/log, sorting the output such that the most\n",
      "     recently modified entries are printed first:\n",
      "\n",
      "\t   $ ls -lt /var/log\n"
     ]
    }
   ],
   "source": [
    "print(_get_page('ls')[1][:256])\n",
    "print('...')\n",
    "print(_get_page('ls')[1][-512:])"
   ]
  },
  {
   "cell_type": "code",
   "execution_count": null,
   "id": "5671d91b",
   "metadata": {},
   "outputs": [],
   "source": [
    "def _manpages(lim=None):\n",
    "    lines = L(co(['apropos', '-s', '1', '.'], text=True).strip().splitlines())\n",
    "    lines = lines.map(lambda s: s.split(\"(\")[0].strip())\n",
    "    cmds = lines.filter(lambda s: s).unique()[:lim]\n",
    "    pages = parallel(_get_page, cmds).filter(lambda x: x[1])\n",
    "    return zip(*pages)"
   ]
  },
  {
   "cell_type": "code",
   "execution_count": null,
   "id": "c7773976",
   "metadata": {},
   "outputs": [],
   "source": [
    "cmds, pages = _manpages(lim=128)"
   ]
  },
  {
   "cell_type": "code",
   "execution_count": null,
   "id": "5f9d6d66",
   "metadata": {},
   "outputs": [
    {
     "data": {
      "text/plain": [
       "127"
      ]
     },
     "execution_count": null,
     "metadata": {},
     "output_type": "execute_result"
    }
   ],
   "source": [
    "len(pages)"
   ]
  },
  {
   "cell_type": "code",
   "execution_count": null,
   "id": "574f6044",
   "metadata": {},
   "outputs": [
    {
     "name": "stdout",
     "output_type": "stream",
     "text": [
      "git-mktag\n",
      "NAME\n",
      "       git-mktag - Creates a tag object with extra validation\n",
      "\n",
      "SYNOPSIS\n",
      "       git mktag\n",
      "\n",
      "DESCRIPTION\n",
      "       Reads a tag co\n",
      "...\n",
      " pass a git-fsck(1) check.\n",
      "\n",
      "       The \"fsck\" check done mktag is stricter than what git-fsck(1) would run\n",
      "       by default in that all fsck.<msg-id> messages are promoted from\n",
      "       warnings to errors (so e.g. a missing \"tagger\" line is an error).\n",
      "\n",
      "       Extra headers in the object are also an error under mktag, but ignored\n",
      "       by git-fsck(1). This extra check can be turned off by setting the\n",
      "       appropriate fsck.<msg-id> varible:\n",
      "\n",
      "\t   git -c fsck.extraHeaderEntry=ignore mktag <my-tag-with-headers\n"
     ]
    }
   ],
   "source": [
    "rid = random.randint(0, len(pages))\n",
    "cmd, page = cmds[rid], pages[rid]\n",
    "print(cmd)\n",
    "print(page[:128])\n",
    "print('...')\n",
    "print(page[-512:])"
   ]
  },
  {
   "cell_type": "markdown",
   "id": "0c85ef06",
   "metadata": {},
   "source": [
    "## Indexing"
   ]
  },
  {
   "cell_type": "code",
   "execution_count": null,
   "id": "cd97cd61",
   "metadata": {},
   "outputs": [],
   "source": [
    "#| export\n",
    "def index_man_pages(cmds, pages):\n",
    "    for cmd, chunks in zip(cmds, chunker.chunk_batch(pages)):\n",
    "        embds = model.encode([c.text for c in chunks])\n",
    "        tbl.add([EmbeddingTable(content=c.text, package_name=cmd, embedding=emb)\n",
    "                 for c, emb in zip(chunks, embds)])"
   ]
  },
  {
   "cell_type": "code",
   "execution_count": null,
   "id": "fe9e2318",
   "metadata": {},
   "outputs": [
    {
     "name": "stderr",
     "output_type": "stream",
     "text": [
      "🦛 choooooooooooooooooooonk 100% • 127/127 docs chunked [00:00<00:00, 767.83doc/s] 🌱\n"
     ]
    }
   ],
   "source": [
    "index_man_pages(cmds, pages)\n",
    "len(tbl)"
   ]
  },
  {
   "cell_type": "code",
   "execution_count": null,
   "id": "312ba518",
   "metadata": {},
   "outputs": [],
   "source": [
    "#| export\n",
    "def search(q: str, limit: int=2, threshold: float=0.5):\n",
    "    q_emb = model.encode([q])\n",
    "    df = tbl.search(q_emb).metric(\"cosine\").limit(limit).to_pandas()\n",
    "    df = df.rename(columns={\"_distance\": \"cosine_distance\"})\n",
    "    df = df[df.cosine_distance < 1 - threshold]\n",
    "    return df"
   ]
  },
  {
   "cell_type": "code",
   "execution_count": null,
   "id": "9532341c",
   "metadata": {},
   "outputs": [
    {
     "data": {
      "text/html": [
       "<div>\n",
       "<style scoped>\n",
       "    .dataframe tbody tr th:only-of-type {\n",
       "        vertical-align: middle;\n",
       "    }\n",
       "\n",
       "    .dataframe tbody tr th {\n",
       "        vertical-align: top;\n",
       "    }\n",
       "\n",
       "    .dataframe thead th {\n",
       "        text-align: right;\n",
       "    }\n",
       "</style>\n",
       "<table border=\"1\" class=\"dataframe\">\n",
       "  <thead>\n",
       "    <tr style=\"text-align: right;\">\n",
       "      <th></th>\n",
       "      <th>content</th>\n",
       "      <th>package_name</th>\n",
       "      <th>embedding</th>\n",
       "      <th>cosine_distance</th>\n",
       "    </tr>\n",
       "  </thead>\n",
       "  <tbody>\n",
       "    <tr>\n",
       "      <th>0</th>\n",
       "      <td>\\t   Note the quotes around *.c. The file hell...</td>\n",
       "      <td>git-checkout</td>\n",
       "      <td>[-0.041774247, -0.044317152, 0.0674934, 0.0194...</td>\n",
       "      <td>0.152378</td>\n",
       "    </tr>\n",
       "    <tr>\n",
       "      <th>1</th>\n",
       "      <td>NAME\\n       git-checkout - Switch branches or...</td>\n",
       "      <td>git-checkout</td>\n",
       "      <td>[-0.048017204, -0.049874607, 0.05528505, -0.00...</td>\n",
       "      <td>0.153252</td>\n",
       "    </tr>\n",
       "  </tbody>\n",
       "</table>\n",
       "</div>"
      ],
      "text/plain": [
       "                                             content  package_name  \\\n",
       "0  \\t   Note the quotes around *.c. The file hell...  git-checkout   \n",
       "1  NAME\\n       git-checkout - Switch branches or...  git-checkout   \n",
       "\n",
       "                                           embedding  cosine_distance  \n",
       "0  [-0.041774247, -0.044317152, 0.0674934, 0.0194...         0.152378  \n",
       "1  [-0.048017204, -0.049874607, 0.05528505, -0.00...         0.153252  "
      ]
     },
     "execution_count": null,
     "metadata": {},
     "output_type": "execute_result"
    }
   ],
   "source": [
    "df = search(\"How can I change my current branch?\")\n",
    "df.head()"
   ]
  },
  {
   "cell_type": "code",
   "execution_count": null,
   "id": "d9f5a489",
   "metadata": {},
   "outputs": [
    {
     "name": "stdout",
     "output_type": "stream",
     "text": [
      "NAME\n",
      "       git-checkout - Switch branches or restore working tree files\n",
      "\n",
      "SYNOPSIS\n",
      "       git checkout [-q] [-f] [-m] [<branch>]\n",
      "       git checkout [-q] [-f] [-m] --detach [<branch>]\n",
      "       git checkout [-q] [-f] [-m] [--detach] <commit>\n",
      "       git checkout [-q] [-f] [-m] [[-b|-B|--orphan] <new-branch>] [<start-point>]\n",
      "       git checkout [-f|--ours|--theirs|-m|--conflict=<style>] [<tree-ish>] [--] <pathspec>...\n",
      "       git checkout [-f|--ours|--theirs|-m|--conflict=<style>] [<tree-ish>] --pathspec-from-fil\n",
      "git-checkout\n"
     ]
    }
   ],
   "source": [
    "doc = df.iloc[1]\n",
    "print(doc.content[:512])\n",
    "print(doc.package_name)"
   ]
  },
  {
   "cell_type": "markdown",
   "id": "d5717ada",
   "metadata": {},
   "source": [
    "## CLI"
   ]
  },
  {
   "cell_type": "code",
   "execution_count": null,
   "id": "3b3844d0",
   "metadata": {},
   "outputs": [],
   "source": [
    "#| export\n",
    "@call_parse\n",
    "def main():\n",
    "    \"Index man pages for RAG\"\n",
    "    cmds, pages = _manpages()\n",
    "    index_man_pages(cmds, pages)"
   ]
  }
 ],
 "metadata": {
  "kernelspec": {
   "display_name": "python3",
   "language": "python",
   "name": "python3"
  }
 },
 "nbformat": 4,
 "nbformat_minor": 5
}
