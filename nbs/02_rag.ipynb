{
 "cells": [
  {
   "cell_type": "code",
   "execution_count": null,
   "id": "474e8a56",
   "metadata": {},
   "outputs": [],
   "source": [
    "#|default_exp rag"
   ]
  },
  {
   "cell_type": "markdown",
   "id": "580770d9",
   "metadata": {},
   "source": [
    "# RAG Support for ShellSage\n",
    "\n",
    "Implementing RAG functionality using local man pages."
   ]
  },
  {
   "cell_type": "code",
   "execution_count": null,
   "id": "f3024492",
   "metadata": {},
   "outputs": [],
   "source": [
    "#|export\n",
    "__all__ = ['get_man_pages', 'read_man_page', 'chunk_text', 'get_embeddings', 'init_db', 'create_chunks_table', 'index_cmd', 'search_cmd']\n",
    "\n",
    "import lancedb\n",
    "from chonkie import RecursiveChunker\n",
    "from model2vec import StaticModel\n",
    "import subprocess\n",
    "import re\n",
    "import logging\n",
    "import os\n",
    "import shutil\n",
    "import pyarrow as pa\n",
    "\n",
    "logging.basicConfig(level=logging.INFO)"
   ]
  },
  {
   "cell_type": "code",
   "execution_count": null,
   "id": "fc9e8762",
   "metadata": {},
   "outputs": [],
   "source": [
    "#|export\n",
    "def get_man_pages():\n",
    "    \"\"\"Get all available man pages on the system.\"\"\"\n",
    "    result = subprocess.run(['apropos', '-l', '.'], stdout=subprocess.PIPE, stderr=subprocess.PIPE, text=True)\n",
    "    pages = []\n",
    "    \n",
    "    for line in result.stdout.splitlines():\n",
    "        if not line.strip(): continue\n",
    "        try:\n",
    "            name, section = line.split('(', 1)\n",
    "            section = section.split(')', 1)[0]\n",
    "            name = name.strip()\n",
    "            \n",
    "            path = subprocess.check_output(['man', '-w', name], text=True).strip()\n",
    "            if os.path.exists(path):\n",
    "                pages.append({\n",
    "                    'title': name,\n",
    "                    'section': section,\n",
    "                    'path': path\n",
    "                })\n",
    "        except Exception as e:\n",
    "            logging.debug(f\"Skipping line {line}: {str(e)}\")\n",
    "            continue\n",
    "            \n",
    "    return pages"
   ]
  },
  {
   "cell_type": "code",
   "execution_count": null,
   "id": "380a502a",
   "metadata": {},
   "outputs": [],
   "source": [
    "#|export\n",
    "def read_man_page(path):\n",
    "    \"\"\"Read a man page and return its text content.\"\"\"\n",
    "    try:\n",
    "        result = subprocess.run(['man', path], capture_output=True, text=True)\n",
    "        return result.stdout if result.returncode == 0 else \"\"\n",
    "    except Exception as e:\n",
    "        logging.warning(f\"Failed to read man page {path}: {str(e)}\")\n",
    "        return \"\""
   ]
  },
  {
   "cell_type": "code",
   "execution_count": null,
   "id": "3e3015fc",
   "metadata": {},
   "outputs": [],
   "source": [
    "#|export\n",
    "def chunk_text(text):\n",
    "    \"\"\"Chunk text using Chonkie's RecursiveChunker.\"\"\"\n",
    "    chunker = RecursiveChunker(\n",
    "        tokenizer=\"gpt2\",\n",
    "        chunk_size=512,\n",
    "        min_characters_per_chunk=12\n",
    "    )\n",
    "    chunks = chunker.chunk(text)\n",
    "    return [chunk.text for chunk in chunks]"
   ]
  },
  {
   "cell_type": "code",
   "execution_count": null,
   "id": "469d996a",
   "metadata": {},
   "outputs": [],
   "source": [
    "#|export\n",
    "def get_embeddings(texts):\n",
    "    \"\"\"Get embeddings using Model2Vec.\"\"\"\n",
    "    model = StaticModel.from_pretrained(\"minishlab/M2V_base_output\")\n",
    "    vectors = model.encode(texts)\n",
    "    return [vector.tolist() for vector in vectors]"
   ]
  },
  {
   "cell_type": "code",
   "execution_count": null,
   "id": "33121bd9",
   "metadata": {},
   "outputs": [],
   "source": [
    "#|export\n",
    "def init_db(db_path=\"man_index.lance\"):\n",
    "    \"\"\"Initialize or open a LanceDB database.\"\"\"\n",
    "    return lancedb.connect(db_path)\n",
    "\n",
    "def create_chunks_table(db):\n",
    "    \"\"\"Create or replace the man page chunks table.\"\"\"\n",
    "    schema = pa.schema([\n",
    "        ('title', pa.string()),\n",
    "        ('section', pa.string()),\n",
    "        ('chunk', pa.string()),\n",
    "        ('vector', pa.list_(pa.float32(), 256))\n",
    "    ])\n",
    "    return db.create_table(\"man_chunks\", schema=schema, mode=\"overwrite\")"
   ]
  },
  {
   "cell_type": "code",
   "execution_count": null,
   "id": "efdd0b8d",
   "metadata": {},
   "outputs": [],
   "source": [
    "#|export\n",
    "def index_cmd(db_path=\"man_index.lance\"):\n",
    "    \"\"\"Index all man pages into the vector database.\"\"\"\n",
    "    db = init_db(db_path)\n",
    "    table = create_chunks_table(db)\n",
    "    \n",
    "    pages = get_man_pages()\n",
    "    logging.info(f\"Found {len(pages)} man pages to index\")\n",
    "    \n",
    "    for page in pages:\n",
    "        try:\n",
    "            logging.info(f\"Processing {page['title']}({page['section']})\")\n",
    "            text = read_man_page(page['path'])\n",
    "            if not text:\n",
    "                logging.warning(f\"Empty content for {page['title']}({page['section']})\")\n",
    "                continue\n",
    "                \n",
    "            chunks = chunk_text(text)\n",
    "            if not chunks:\n",
    "                logging.warning(f\"No chunks created for {page['title']}({page['section']})\")\n",
    "                continue\n",
    "                \n",
    "            vectors = get_embeddings(chunks)\n",
    "            \n",
    "            data = [{\n",
    "                \"title\": page['title'],\n",
    "                \"section\": page['section'],\n",
    "                \"chunk\": chunk,\n",
    "                \"vector\": vector\n",
    "            } for chunk, vector in zip(chunks, vectors)]\n",
    "            \n",
    "            if data:\n",
    "                table.add(data)\n",
    "                logging.info(f\"Added {len(data)} chunks for {page['title']}({page['section']})\")\n",
    "        except Exception as e:\n",
    "            logging.error(f\"Failed to process {page['title']}({page['section']}): {str(e)}\")\n",
    "            continue"
   ]
  },
  {
   "cell_type": "code",
   "execution_count": null,
   "id": "e6e1831c",
   "metadata": {},
   "outputs": [],
   "source": [
    "#|export\n",
    "def search_cmd(query, top_k=5, db_path=\"man_index.lance\"):\n",
    "    \"\"\"Search indexed man pages for relevant information.\"\"\"\n",
    "    db = init_db(db_path)\n",
    "    table = db.open_table(\"man_chunks\")\n",
    "    \n",
    "    model = StaticModel.from_pretrained(\"minishlab/M2V_base_output\")\n",
    "    query_vector = model.encode([query])[0].tolist()\n",
    "    \n",
    "    results = table.search(query_vector).limit(top_k).to_list()\n",
    "    \n",
    "    for result in results:\n",
    "        print(f\"=== {result['title']}({result['section']}) ===\")\n",
    "        print(result['chunk'])\n",
    "        print(f\"Similarity score: {result['_distance']}\")\n",
    "    \n",
    "    return results"
   ]
  },
  {
   "cell_type": "markdown",
   "id": "b7a91f4f",
   "metadata": {},
   "source": [
    "## Tests"
   ]
  },
  {
   "cell_type": "code",
   "execution_count": null,
   "id": "17b485bb",
   "metadata": {},
   "outputs": [],
   "source": [
    "#|test\n",
    "def test_get_man_pages():\n",
    "    pages = get_man_pages()\n",
    "    assert len(pages) > 0, \"No man pages found\"\n",
    "    assert all(isinstance(p, dict) for p in pages), \"Invalid page format\"\n",
    "    assert all('title' in p and 'section' in p and 'path' in p for p in pages), \"Missing required fields\"\n",
    "    print(\"✓ get_man_pages test passed\")"
   ]
  },
  {
   "cell_type": "code",
   "execution_count": null,
   "id": "fc7abcb9",
   "metadata": {},
   "outputs": [],
   "source": [
    "#|test\n",
    "def test_read_man_page():\n",
    "    pages = get_man_pages()\n",
    "    if not pages: return\n",
    "    content = read_man_page(pages[0]['path'])\n",
    "    assert content, \"Failed to read man page content\"\n",
    "    assert isinstance(content, str), \"Content is not string\"\n",
    "    print(\"✓ read_man_page test passed\")"
   ]
  },
  {
   "cell_type": "code",
   "execution_count": null,
   "id": "d3594083",
   "metadata": {},
   "outputs": [],
   "source": [
    "#|test\n",
    "def test_chunking():\n",
    "    text = \"\"\"This is a test document.\n",
    "    It has multiple lines.\n",
    "    We will use it to test chunking.\"\"\"\n",
    "    chunks = chunk_text(text)\n",
    "    assert chunks, \"No chunks created\"\n",
    "    assert all(isinstance(c, str) for c in chunks), \"Invalid chunk format\"\n",
    "    print(\"✓ chunk_text test passed\")"
   ]
  },
  {
   "cell_type": "code",
   "execution_count": null,
   "id": "a7ce8816",
   "metadata": {},
   "outputs": [],
   "source": [
    "#|test\n",
    "def test_embeddings():\n",
    "    texts = [\"This is a test sentence.\"]\n",
    "    vectors = get_embeddings(texts)\n",
    "    assert len(vectors) == 1, \"Wrong number of vectors\"\n",
    "    assert len(vectors[0]) == 256, \"Wrong vector dimension\"\n",
    "    print(\"✓ get_embeddings test passed\")"
   ]
  },
  {
   "cell_type": "code",
   "execution_count": null,
   "id": "a7d91d4b",
   "metadata": {},
   "outputs": [],
   "source": [
    "#|test\n",
    "def test_index_and_search():\n",
    "    test_db = \"test_man_index.lance\"\n",
    "    try:\n",
    "        # Test indexing\n",
    "        index_cmd(test_db)\n",
    "        assert os.path.exists(test_db), \"Database not created\"\n",
    "        \n",
    "        # Test searching\n",
    "        results = search_cmd(\"list files\", db_path=test_db)\n",
    "        assert len(results) > 0, \"No search results found\"\n",
    "        assert all('title' in r and 'section' in r and 'chunk' in r for r in results), \"Invalid result format\"\n",
    "        print(\"✓ index_cmd and search_cmd test passed\")\n",
    "    finally:\n",
    "        if os.path.exists(test_db):\n",
    "            shutil.rmtree(test_db)"
   ]
  }
 ],
 "metadata": {},
 "nbformat": 4,
 "nbformat_minor": 5
}
