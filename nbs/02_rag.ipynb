{
 "cells": [
  {
   "cell_type": "code",
   "execution_count": null,
   "id": "929f165e",
   "metadata": {},
   "outputs": [],
   "source": [
    "#|default_exp rag"
   ]
  },
  {
   "cell_type": "markdown",
   "id": "8d5eaf1e",
   "metadata": {},
   "source": [
    "# ShellSage Retrieval Augmented Generation"
   ]
  },
  {
   "cell_type": "markdown",
   "id": "11feb5d9",
   "metadata": {},
   "source": [
    "## Imports"
   ]
  },
  {
   "cell_type": "code",
   "execution_count": null,
   "id": "b2f9566d",
   "metadata": {},
   "outputs": [],
   "source": [
    "#| export\n",
    "from chonkie import SentenceChunker\n",
    "from fastcore.all import *\n",
    "from lancedb import connect\n",
    "from lancedb.pydantic import LanceModel, Vector\n",
    "from pathlib import Path\n",
    "from sentence_transformers import SentenceTransformer\n",
    "from sentence_transformers.models import StaticEmbedding\n",
    "from subprocess import check_output as co\n",
    "\n",
    "import os, re, subprocess\n",
    "os.environ['TOKENIZERS_PARALLELISM'] = 'false'"
   ]
  },
  {
   "cell_type": "code",
   "execution_count": null,
   "id": "6e326ae3",
   "metadata": {},
   "outputs": [],
   "source": [
    "import random"
   ]
  },
  {
   "cell_type": "markdown",
   "id": "7ade9bcf",
   "metadata": {},
   "source": [
    "## Database setup"
   ]
  },
  {
   "cell_type": "code",
   "execution_count": null,
   "id": "a1ecb07e",
   "metadata": {},
   "outputs": [],
   "source": [
    "#| export\n",
    "# set up db path in user's home cache directory\n",
    "db_path = Path.home() / '.cache' / 'shell_sage' / 'db'\n",
    "db_path.mkdir(parents=True, exist_ok=True)"
   ]
  },
  {
   "cell_type": "code",
   "execution_count": null,
   "id": "b122b4c5",
   "metadata": {},
   "outputs": [],
   "source": [
    "#| export\n",
    "chunker = SentenceChunker(tokenizer=\"gpt2\", chunk_size=2_048,\n",
    "                          chunk_overlap=256, min_sentences_per_chunk=1)"
   ]
  },
  {
   "cell_type": "code",
   "execution_count": null,
   "id": "19f10a4f",
   "metadata": {},
   "outputs": [],
   "source": [
    "#| export\n",
    "static_embedding = StaticEmbedding.from_model2vec(\"minishlab/potion-retrieval-32M\")\n",
    "model = SentenceTransformer(modules=[static_embedding], device=\"cpu\")\n",
    "ndim = model.encode([\"Example sentence\"]).shape[1]"
   ]
  },
  {
   "cell_type": "code",
   "execution_count": null,
   "id": "7ae76c15",
   "metadata": {},
   "outputs": [
    {
     "data": {
      "text/plain": [
       "512"
      ]
     },
     "execution_count": null,
     "metadata": {},
     "output_type": "execute_result"
    }
   ],
   "source": [
    "ndim"
   ]
  },
  {
   "cell_type": "code",
   "execution_count": null,
   "id": "6f6bd2a8",
   "metadata": {},
   "outputs": [],
   "source": [
    "#| export\n",
    "class EmbeddingTable(LanceModel):\n",
    "    content: str\n",
    "    package_name: str\n",
    "    embedding: Vector(ndim)"
   ]
  },
  {
   "cell_type": "code",
   "execution_count": null,
   "id": "7bb739fc",
   "metadata": {},
   "outputs": [],
   "source": [
    "#| export\n",
    "db = connect(db_path)\n",
    "tbl = None\n",
    "try: tbl = db.open_table(\"man_pages\")\n",
    "except ValueError:\n",
    "    tbl = db.create_table(\"man_pages\", schema=EmbeddingTable, mode=\"create\")\n",
    "    tbl.create_fts_index(\"content\") # for hybrid search"
   ]
  },
  {
   "cell_type": "code",
   "execution_count": null,
   "id": "ca74754e",
   "metadata": {},
   "outputs": [
    {
     "data": {
      "text/plain": [
       "(#1) [Path('/Users/nathan/.cache/shell_sage/db/man_pages.lance')]"
      ]
     },
     "execution_count": null,
     "metadata": {},
     "output_type": "execute_result"
    }
   ],
   "source": [
    "db_path.ls()"
   ]
  },
  {
   "cell_type": "markdown",
   "id": "91867f2c",
   "metadata": {},
   "source": [
    "## Man page indexing"
   ]
  },
  {
   "cell_type": "code",
   "execution_count": null,
   "id": "0e2c11d6",
   "metadata": {},
   "outputs": [],
   "source": [
    "#| export\n",
    "def _get_page(cmd):\n",
    "    try: return cmd, co(['man', cmd], text=True,\n",
    "                   stderr=subprocess.DEVNULL).strip()\n",
    "    except: return cmd, None\n",
    "\n",
    "def clean(text: str) -> str:\n",
    "    \"Cleans man page text by removing backspaces and ANSI escape codes\"\n",
    "\n",
    "    # Remove backspaces\n",
    "    while True:\n",
    "        cleaned = re.sub(r'.\\x08', '', text)\n",
    "        if cleaned == text:\n",
    "            break\n",
    "        text = cleaned\n",
    "\n",
    "    # Remove ANSI escape codes\n",
    "    text = re.sub(r'(?:\\x1B[@-Z\\\\-_]|\\x1B\\[?[\\d;]*[A-PRZcf-nq-uy=><])', '', text)\n",
    "\n",
    "    # Convert multiple newlines into one\n",
    "    text = re.sub(r'\\n+', '\\n', text)\n",
    "    return text.strip()\n",
    "\n",
    "def _man_pages(lim=None):\n",
    "    lines = L(co(['man', '-k', '.'], text=True).strip().splitlines())\n",
    "    lines = lines.filter(lambda s: re.search(r'\\(1[^\\)]*\\)', s))\n",
    "    cmds = (lines.map(lambda s: s.split(\"(\")[0].strip())\n",
    "                 .filter(lambda s: s).unique()[:lim])\n",
    "\n",
    "    pages = parallel(_get_page, cmds).filter(lambda x: x[1])\n",
    "    return zip(*pages.map(lambda x: (x[0], clean(x[1]))))\n"
   ]
  },
  {
   "cell_type": "code",
   "execution_count": null,
   "id": "a5cb76df",
   "metadata": {},
   "outputs": [],
   "source": [
    "cmds, pages = _man_pages(128)"
   ]
  },
  {
   "cell_type": "code",
   "execution_count": null,
   "id": "a1eb2ab3",
   "metadata": {},
   "outputs": [
    {
     "name": "stdout",
     "output_type": "stream",
     "text": [
      "git-credential-cache--daemon\n",
      "GIT-CREDENTIAL-CAC(1)             Git Manual             GIT-CREDENTIAL-CAC(1)\n",
      "NAME\n",
      "       git-credential-cache--daemon - Tempor\n"
     ]
    }
   ],
   "source": [
    "idx = random.randint(0, len(pages))\n",
    "cmd, page = cmds[idx], pages[idx]\n",
    "print(cmd)\n",
    "print(page[:128])"
   ]
  },
  {
   "cell_type": "code",
   "execution_count": null,
   "id": "cd97cd61",
   "metadata": {},
   "outputs": [],
   "source": [
    "#| export\n",
    "def index_man_pages(cmds, pages):\n",
    "    for cmd, chunks in zip(cmds, chunker.chunk_batch(pages)):\n",
    "        embds = model.encode([chunk.text for chunk in chunks])\n",
    "        tbl.add([EmbeddingTable(content=c.text, package_name=cmd, embedding=emb)\n",
    "                 for c, emb in zip(chunks, embds)])"
   ]
  },
  {
   "cell_type": "code",
   "execution_count": null,
   "id": "fe9e2318",
   "metadata": {},
   "outputs": [
    {
     "name": "stderr",
     "output_type": "stream",
     "text": [
      "🦛 choooooooooooooooooooonk 100% • 127/127 docs chunked [00:01<00:00, 106.70doc/s] 🌱\n"
     ]
    }
   ],
   "source": [
    "index_man_pages(cmds, pages)"
   ]
  },
  {
   "cell_type": "code",
   "execution_count": null,
   "id": "312ba518",
   "metadata": {},
   "outputs": [],
   "source": [
    "#| export\n",
    "def search(q: str, limit: int=2, threshold: float=0.5):\n",
    "    q_emb = model.encode([q])\n",
    "    df = tbl.search(q_emb).metric(\"cosine\").limit(limit).to_pandas()\n",
    "    df = df.rename(columns={\"_distance\": \"cosine_distance\"})\n",
    "    df = df[df.cosine_distance < 1 - threshold]\n",
    "    return df"
   ]
  },
  {
   "cell_type": "code",
   "execution_count": null,
   "id": "528f7d36",
   "metadata": {},
   "outputs": [
    {
     "data": {
      "text/html": [
       "<div>\n",
       "<style scoped>\n",
       "    .dataframe tbody tr th:only-of-type {\n",
       "        vertical-align: middle;\n",
       "    }\n",
       "\n",
       "    .dataframe tbody tr th {\n",
       "        vertical-align: top;\n",
       "    }\n",
       "\n",
       "    .dataframe thead th {\n",
       "        text-align: right;\n",
       "    }\n",
       "</style>\n",
       "<table border=\"1\" class=\"dataframe\">\n",
       "  <thead>\n",
       "    <tr style=\"text-align: right;\">\n",
       "      <th></th>\n",
       "      <th>content</th>\n",
       "      <th>package_name</th>\n",
       "      <th>embedding</th>\n",
       "      <th>cosine_distance</th>\n",
       "    </tr>\n",
       "  </thead>\n",
       "  <tbody>\n",
       "    <tr>\n",
       "      <th>0</th>\n",
       "      <td>Both the index and working tree are...</td>\n",
       "      <td>git-switch</td>\n",
       "      <td>[-0.3973836, 1.8147281, 0.0032745493, 1.281918...</td>\n",
       "      <td>0.438940</td>\n",
       "    </tr>\n",
       "    <tr>\n",
       "      <th>1</th>\n",
       "      <td>GIT-SWITCH(1)                     Git Manual  ...</td>\n",
       "      <td>git-switch</td>\n",
       "      <td>[0.0898071, 1.866398, 0.020456946, 1.2332366, ...</td>\n",
       "      <td>0.447789</td>\n",
       "    </tr>\n",
       "  </tbody>\n",
       "</table>\n",
       "</div>"
      ],
      "text/plain": [
       "                                             content package_name  \\\n",
       "0             Both the index and working tree are...   git-switch   \n",
       "1  GIT-SWITCH(1)                     Git Manual  ...   git-switch   \n",
       "\n",
       "                                           embedding  cosine_distance  \n",
       "0  [-0.3973836, 1.8147281, 0.0032745493, 1.281918...         0.438940  \n",
       "1  [0.0898071, 1.866398, 0.020456946, 1.2332366, ...         0.447789  "
      ]
     },
     "execution_count": null,
     "metadata": {},
     "output_type": "execute_result"
    }
   ],
   "source": [
    "df = search(\"How can I change my current branch?\")\n",
    "df.head()"
   ]
  },
  {
   "cell_type": "markdown",
   "id": "d5717ada",
   "metadata": {},
   "source": [
    "## CLI"
   ]
  },
  {
   "cell_type": "code",
   "execution_count": null,
   "id": "3b3844d0",
   "metadata": {},
   "outputs": [],
   "source": [
    "#| export\n",
    "@call_parse\n",
    "def main():\n",
    "    \"Index man pages for RAG\"\n",
    "    cmds, pages = _man_pages()\n",
    "    index_man_pages(cmds, pages)"
   ]
  }
 ],
 "metadata": {
  "kernelspec": {
   "display_name": "python3",
   "language": "python",
   "name": "python3"
  }
 },
 "nbformat": 4,
 "nbformat_minor": 5
}
