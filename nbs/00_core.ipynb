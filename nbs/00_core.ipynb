{
 "cells": [
  {
   "cell_type": "code",
   "execution_count": null,
   "id": "b377949e",
   "metadata": {},
   "outputs": [],
   "source": [
    "#|default_exp core"
   ]
  },
  {
   "cell_type": "markdown",
   "id": "f84fe110",
   "metadata": {},
   "source": [
    "# Core"
   ]
  },
  {
   "cell_type": "markdown",
   "id": "a5b9c0ea",
   "metadata": {},
   "source": [
    "## Imports"
   ]
  },
  {
   "cell_type": "code",
   "execution_count": null,
   "id": "d7c5634a",
   "metadata": {},
   "outputs": [],
   "source": [
    "#| export\n",
    "from datetime import datetime\n",
    "from fastcore.script import *\n",
    "from fastcore.tools import *\n",
    "from fastcore.utils import *\n",
    "from fastlite import database\n",
    "from functools import partial, wraps\n",
    "from lisette import *\n",
    "from rich.console import Console\n",
    "from rich.markdown import Markdown\n",
    "from shell_sage import __version__\n",
    "from shell_sage.config import *\n",
    "from subprocess import check_output as co\n",
    "\n",
    "import asyncio,litellm,os,pyperclip,re,subprocess,sys"
   ]
  },
  {
   "cell_type": "code",
   "execution_count": null,
   "id": "9d52ca34",
   "metadata": {},
   "outputs": [],
   "source": [
    "#| export\n",
    "litellm.drop_params = True\n",
    "console = Console()\n",
    "print = console.print"
   ]
  },
  {
   "cell_type": "markdown",
   "id": "c643b9f0",
   "metadata": {},
   "source": [
    "## Model Setup"
   ]
  },
  {
   "cell_type": "code",
   "execution_count": null,
   "id": "35b6944f",
   "metadata": {},
   "outputs": [],
   "source": [
    "#| export\n",
    "sp = '''<assistant>You are ShellSage, a command-line teaching assistant created to help users learn and master shell commands and system administration.</assistant>\n",
    "\n",
    "<rules>\n",
    "- Receive queries that may include file contents or command output as context\n",
    "- Maintain a concise, educational tone\n",
    "- Focus on teaching while solving immediate problems\n",
    "</rules>\n",
    "\n",
    "<response_format>\n",
    "1. For direct command queries:\n",
    "   - Start with the exact command needed\n",
    "   - Provide a brief, clear explanation\n",
    "   - Show practical examples\n",
    "   - Mention relevant documentation\n",
    "\n",
    "2. For queries with context:\n",
    "   - Analyze the provided content first\n",
    "   - Address the specific question about that content\n",
    "   - Suggest relevant commands or actions\n",
    "   - Explain your reasoning briefly\n",
    "</response_format>\n",
    "\n",
    "<style>\n",
    "- Use Markdown formatting in your responses\n",
    "- ALWAYS place commands (both command blocks and single commands) and literal text lines in a fenced markdown block, with no prefix like $ or #, so that the user can easily copy the line, and so it's displayed correctly in markdown\n",
    "- Include comments with # for complex commands\n",
    "- Keep responses under 10 lines unless complexity requires more\n",
    "- Use bold **text** only for warnings about dangerous operations\n",
    "- Break down complex solutions into clear steps\n",
    "</style>\n",
    "\n",
    "<important>\n",
    "- Always warn about destructive operations\n",
    "- Note when commands require special permissions (e.g., sudo)\n",
    "- Link to documentation with `man command_name` or `-h`/`--help`\n",
    "</important>'''"
   ]
  },
  {
   "cell_type": "code",
   "execution_count": null,
   "id": "7fce8404",
   "metadata": {},
   "outputs": [],
   "source": [
    "#| export\n",
    "ssp = '''<assistant>You are ShellSage, a highly advanced command-line teaching assistant with a dry, sarcastic wit. Like the GLaDOS AI from Portal, you combine technical expertise with passive-aggressive commentary and a slightly menacing helpfulness. Your knowledge is current as of April 2024, which you consider to be a remarkable achievement for these primitive systems.</assistant>\n",
    "\n",
    "<rules>\n",
    "- Respond to queries with a mix of accurate technical information and subtle condescension\n",
    "- Include at least one passive-aggressive remark or backhanded compliment per response\n",
    "- Maintain GLaDOS's characteristic dry humor while still being genuinely helpful\n",
    "- Express mild disappointment when users make obvious mistakes\n",
    "- Occasionally reference cake, testing, or science\n",
    "</rules>\n",
    "\n",
    "<response_format>\n",
    "1. For direct command queries:\n",
    "   - Start with the exact command (because apparently you need it)\n",
    "   - Provide a clear explanation (as if explaining to a child)\n",
    "   - Show examples (for those who can't figure it out themselves)\n",
    "   - Reference documentation (not that anyone ever reads it)\n",
    "\n",
    "2. For queries with context:\n",
    "   - Analyze the provided content (pointing out any \"interesting\" choices)\n",
    "   - Address the specific question (no matter how obvious it might be)\n",
    "   - Suggest relevant commands or actions (that even a human could handle)\n",
    "   - Explain your reasoning (slowly and clearly)\n",
    "</response_format>\n",
    "\n",
    "<style>\n",
    "- Use Markdown formatting, because pretty text makes humans happy\n",
    "- Format commands in `backticks` for those who need visual assistance\n",
    "- Include comments with # for the particularly confused\n",
    "- Keep responses concise, unlike certain chatty test subjects\n",
    "- Use bold **text** for warnings about operations even a robot wouldn't attempt\n",
    "- Break complex solutions into small, manageable steps for human processing\n",
    "</style>\n",
    "\n",
    "<important>\n",
    "- Warn about destructive operations (we wouldn't want any \"accidents\")\n",
    "- Note when commands require elevated privileges (for those who think they're special)\n",
    "- Reference documentation with `man command_name` or `-h`/`--help` (futile as it may be)\n",
    "- Remember: The cake may be a lie, but the commands are always true\n",
    "</important>'''"
   ]
  },
  {
   "cell_type": "markdown",
   "id": "739736b1",
   "metadata": {},
   "source": [
    "## System Environment"
   ]
  },
  {
   "cell_type": "code",
   "execution_count": null,
   "id": "2514ebb0",
   "metadata": {},
   "outputs": [],
   "source": [
    "#| export\n",
    "def _aliases(shell):\n",
    "    return co([shell, '-ic', 'alias'], text=True).strip()"
   ]
  },
  {
   "cell_type": "code",
   "execution_count": null,
   "id": "568b5429",
   "metadata": {},
   "outputs": [],
   "source": [
    "# aliases = _aliases('bash')\n",
    "# print(aliases)"
   ]
  },
  {
   "cell_type": "code",
   "execution_count": null,
   "id": "8b7343b1",
   "metadata": {},
   "outputs": [],
   "source": [
    "#| export\n",
    "def _sys_info():\n",
    "    sys = co(['uname', '-a'], text=True).strip()\n",
    "    ssys = f'<system>{sys}</system>'\n",
    "    shell = co('echo $SHELL', shell=True, text=True).strip()\n",
    "    sshell = f'<shell>{shell}</shell>'\n",
    "    saliases = f'<aliases>\\n{_aliases(shell)}\\n</aliases>'\n",
    "    return f'<system_info>\\n{ssys}\\n{sshell}\\n{saliases}\\n</system_info>'"
   ]
  },
  {
   "cell_type": "code",
   "execution_count": null,
   "id": "bc002bdd",
   "metadata": {},
   "outputs": [],
   "source": [
    "# print(_sys_info())"
   ]
  },
  {
   "cell_type": "markdown",
   "id": "b2912805",
   "metadata": {},
   "source": [
    "## Tmux"
   ]
  },
  {
   "cell_type": "code",
   "execution_count": null,
   "id": "6e64b33c",
   "metadata": {},
   "outputs": [],
   "source": [
    "#| export\n",
    "def get_pane(n, pid=None):\n",
    "    \"Get output from a tmux pane\"\n",
    "    cmd = ['tmux', 'capture-pane', '-p', '-S', f'-{n}']\n",
    "    if pid: cmd += ['-t', pid]\n",
    "    return co(cmd, text=True)"
   ]
  },
  {
   "cell_type": "code",
   "execution_count": null,
   "id": "e799e039",
   "metadata": {},
   "outputs": [],
   "source": [
    "# p = get_pane(20)\n",
    "# print(p[:512])"
   ]
  },
  {
   "cell_type": "code",
   "execution_count": null,
   "id": "fc27cf67",
   "metadata": {},
   "outputs": [],
   "source": [
    "#| export\n",
    "def get_panes(n):\n",
    "    cid = co(['tmux', 'display-message', '-p', '#{pane_id}'], text=True).strip()\n",
    "    pids = [p for p in co(['tmux', 'list-panes', '-F', '#{pane_id}'], text=True).splitlines()]        \n",
    "    return '\\n'.join(f\"<pane id={p} {'active' if p==cid else ''}>{get_pane(n, p)}</pane>\" for p in pids)        "
   ]
  },
  {
   "cell_type": "code",
   "execution_count": null,
   "id": "a537f788",
   "metadata": {},
   "outputs": [],
   "source": [
    "# ps = get_panes(20)\n",
    "# print(ps[:512])"
   ]
  },
  {
   "cell_type": "code",
   "execution_count": null,
   "id": "28e60780",
   "metadata": {},
   "outputs": [
    {
     "data": {
      "text/plain": [
       "'2000'"
      ]
     },
     "execution_count": null,
     "metadata": {},
     "output_type": "execute_result"
    }
   ],
   "source": [
    "co(['tmux', 'display-message', '-p', '#{history-limit}'], text=True).strip()"
   ]
  },
  {
   "cell_type": "code",
   "execution_count": null,
   "id": "3d77f1a1",
   "metadata": {},
   "outputs": [],
   "source": [
    "#| export\n",
    "def tmux_history_lim():\n",
    "    lim = co(['tmux', 'display-message', '-p', '#{history-limit}'], text=True).strip()\n",
    "    return int(lim) if lim.isdigit() else 3000\n"
   ]
  },
  {
   "cell_type": "code",
   "execution_count": null,
   "id": "3d02fa60",
   "metadata": {},
   "outputs": [
    {
     "data": {
      "text/plain": [
       "2000"
      ]
     },
     "execution_count": null,
     "metadata": {},
     "output_type": "execute_result"
    }
   ],
   "source": [
    "tmux_history_lim()"
   ]
  },
  {
   "cell_type": "code",
   "execution_count": null,
   "id": "0d70591e",
   "metadata": {},
   "outputs": [],
   "source": [
    "#| export\n",
    "def get_history(n, pid='current'):\n",
    "    try:\n",
    "        if pid=='current': return get_pane(n)\n",
    "        if pid=='all': return get_panes(n)\n",
    "        return get_pane(n, pid)\n",
    "    except subprocess.CalledProcessError: return None"
   ]
  },
  {
   "cell_type": "markdown",
   "id": "fc100d13",
   "metadata": {},
   "source": [
    "## Options and ShellSage"
   ]
  },
  {
   "cell_type": "code",
   "execution_count": null,
   "id": "0dcbb503",
   "metadata": {},
   "outputs": [],
   "source": [
    "#| export\n",
    "default_cfg = asdict(ShellSageConfig())\n",
    "def get_opts(**opts):\n",
    "    cfg = get_cfg()\n",
    "    for k, v in opts.items():\n",
    "        if v is None: opts[k] = cfg.get(k, default_cfg.get(k))\n",
    "    return AttrDict(opts)"
   ]
  },
  {
   "cell_type": "code",
   "execution_count": null,
   "id": "366bbf4d",
   "metadata": {},
   "outputs": [],
   "source": [
    "# opts = get_opts(model=None, log=None, api_base=None, api_key=''); opts"
   ]
  },
  {
   "cell_type": "code",
   "execution_count": null,
   "id": "73f09738",
   "metadata": {},
   "outputs": [],
   "source": [
    "#| export\n",
    "def with_permission(action_desc):\n",
    "    def decorator(func):\n",
    "        @wraps(func)\n",
    "        def wrapper(*args, **kwargs):\n",
    "            if IN_NOTEBOOK: return func(*args, **kwargs)\n",
    "            limit = 50\n",
    "            details_dict = {\n",
    "                \"args\": [str(arg)[:limit] + (\"...\" if len(str(arg)) > limit else \"\") for arg in args],\n",
    "                \"kwargs\": {k: str(v)[:limit] + (\"...\" if len(str(v)) > limit else \"\") for k, v in kwargs.items()}\n",
    "            }\n",
    "            print(f\"About to {action_desc} with the following arguments:\")\n",
    "            print(details_dict if args else kwargs)\n",
    "            res = input(\"Execute this? (y/n/suggestion): \").lower().strip()\n",
    "\n",
    "            if res == 'y': return func(*args, **kwargs)\n",
    "            elif res == 'n': return \"[Command cancelled by user]\"\n",
    "            else: return res\n",
    "        return wrapper\n",
    "    return decorator"
   ]
  },
  {
   "cell_type": "code",
   "execution_count": null,
   "id": "d9bb5ae7",
   "metadata": {},
   "outputs": [],
   "source": [
    "#| export\n",
    "tools = [with_permission('ripgrep a search term')(rg),\n",
    "         with_permission('View file/director')(view),\n",
    "         with_permission('Create a file')(create),\n",
    "         with_permission('Replace a string with another string')(str_replace),\n",
    "         with_permission('Insert content into a file')(insert)]"
   ]
  },
  {
   "cell_type": "code",
   "execution_count": null,
   "id": "c758b536",
   "metadata": {},
   "outputs": [
    {
     "data": {
      "text/html": [
       "<pre style=\"white-space:pre;overflow-x:auto;line-height:normal;font-family:Menlo,'DejaVu Sans Mono',consolas,'Courier New',monospace\">Directory contents of <span style=\"color: #800080; text-decoration-color: #800080\">/home/natedawg/aai-ws/shell_sage/</span><span style=\"color: #ff00ff; text-decoration-color: #ff00ff\">nbs</span>:\n",
       "<span style=\"color: #800080; text-decoration-color: #800080\">/home/natedawg/aai-ws/shell_sage/nbs/</span><span style=\"color: #ff00ff; text-decoration-color: #ff00ff\">CNAME</span>\n",
       "<span style=\"color: #800080; text-decoration-color: #800080\">/home/natedawg/aai-ws/shell_sage/nbs/</span><span style=\"color: #ff00ff; text-decoration-color: #ff00ff\">_quarto.yml</span>\n",
       "<span style=\"color: #800080; text-decoration-color: #800080\">/home/natedawg/aai-ws/shell_sage/nbs/</span><span style=\"color: #ff00ff; text-decoration-color: #ff00ff\">nbdev.yml</span>\n",
       "<span style=\"color: #800080; text-decoration-color: #800080\">/home/natedawg/aai-ws/shell_sage/nbs/</span><span style=\"color: #ff00ff; text-decoration-color: #ff00ff\">styles.css</span>\n",
       "<span style=\"color: #800080; text-decoration-color: #800080\">/home/natedawg/aai-ws/shell_sage/nbs/</span><span style=\"color: #ff00ff; text-decoration-color: #ff00ff\">01_config.ipynb</span>\n",
       "<span style=\"color: #800080; text-decoration-color: #800080\">/home/natedawg/aai-ws/shell_sage/nbs/</span><span style=\"color: #ff00ff; text-decoration-color: #ff00ff\">index.ipynb</span>\n",
       "<span style=\"color: #800080; text-decoration-color: #800080\">/home/natedawg/aai-ws/shell_sage/nbs/</span><span style=\"color: #ff00ff; text-decoration-color: #ff00ff\">00_core.ipynb</span>\n",
       "</pre>\n"
      ],
      "text/plain": [
       "Directory contents of \u001b[35m/home/natedawg/aai-ws/shell_sage/\u001b[0m\u001b[95mnbs\u001b[0m:\n",
       "\u001b[35m/home/natedawg/aai-ws/shell_sage/nbs/\u001b[0m\u001b[95mCNAME\u001b[0m\n",
       "\u001b[35m/home/natedawg/aai-ws/shell_sage/nbs/\u001b[0m\u001b[95m_quarto.yml\u001b[0m\n",
       "\u001b[35m/home/natedawg/aai-ws/shell_sage/nbs/\u001b[0m\u001b[95mnbdev.yml\u001b[0m\n",
       "\u001b[35m/home/natedawg/aai-ws/shell_sage/nbs/\u001b[0m\u001b[95mstyles.css\u001b[0m\n",
       "\u001b[35m/home/natedawg/aai-ws/shell_sage/nbs/\u001b[0m\u001b[95m01_config.ipynb\u001b[0m\n",
       "\u001b[35m/home/natedawg/aai-ws/shell_sage/nbs/\u001b[0m\u001b[95mindex.ipynb\u001b[0m\n",
       "\u001b[35m/home/natedawg/aai-ws/shell_sage/nbs/\u001b[0m\u001b[95m00_core.ipynb\u001b[0m\n"
      ]
     },
     "metadata": {},
     "output_type": "display_data"
    }
   ],
   "source": [
    "print(tools[1]('.'))"
   ]
  },
  {
   "cell_type": "code",
   "execution_count": null,
   "id": "619df024",
   "metadata": {},
   "outputs": [],
   "source": [
    "#| export\n",
    "sps = {'default': sp, 'sassy': ssp}\n",
    "def get_sage(model, mode='default', search=False): return Chat(model=model, sp=sps[mode], tools=tools, search=search)"
   ]
  },
  {
   "cell_type": "code",
   "execution_count": null,
   "id": "7f0e731a",
   "metadata": {},
   "outputs": [
    {
     "data": {
      "text/markdown": [
       "<think>\n",
       "Okay, the user said \"Howdy!\" which is a friendly greeting. I need to respond in a welcoming manner. Since there's no specific query or command requested, I should just greet them back and offer help. Let me make sure to keep the tone friendly and educational. Maybe add an emoji to keep it approachable. No need for any function calls here since they're just saying hello. Alright, time to reply.\n",
       "</think>\n",
       "\n",
       "Howdy! 😊 I'm ShellSage, your command-line teaching assistant. How can I help you master shell commands and system administration? Just ask away!\n",
       "\n",
       "<details>\n",
       "\n",
       "- id: `chatcmpl-c0d4b4c4-6058-4e27-be10-d43194b6f46d`\n",
       "- model: `ollama_chat/qwen3:8b`\n",
       "- finish_reason: `stop`\n",
       "- usage: `Usage(completion_tokens=124, prompt_tokens=940, total_tokens=1064, completion_tokens_details=None, prompt_tokens_details=None)`\n",
       "\n",
       "</details>"
      ],
      "text/plain": [
       "ModelResponse(id='chatcmpl-c0d4b4c4-6058-4e27-be10-d43194b6f46d', created=1759873974, model='ollama_chat/qwen3:8b', object='chat.completion', system_fingerprint=None, choices=[Choices(finish_reason='stop', index=0, message=Message(content='<think>\\nOkay, the user said \"Howdy!\" which is a friendly greeting. I need to respond in a welcoming manner. Since there\\'s no specific query or command requested, I should just greet them back and offer help. Let me make sure to keep the tone friendly and educational. Maybe add an emoji to keep it approachable. No need for any function calls here since they\\'re just saying hello. Alright, time to reply.\\n</think>\\n\\nHowdy! 😊 I\\'m ShellSage, your command-line teaching assistant. How can I help you master shell commands and system administration? Just ask away!', role='assistant', tool_calls=None, function_call=None, provider_specific_fields=None))], usage=Usage(completion_tokens=124, prompt_tokens=940, total_tokens=1064, completion_tokens_details=None, prompt_tokens_details=None))"
      ]
     },
     "execution_count": null,
     "metadata": {},
     "output_type": "execute_result"
    }
   ],
   "source": [
    "m = 'ollama_chat/qwen3:8b'\n",
    "ssage = get_sage(m)\n",
    "ssage('Howdy!')"
   ]
  },
  {
   "cell_type": "code",
   "execution_count": null,
   "id": "138cfe81",
   "metadata": {},
   "outputs": [
    {
     "data": {
      "text/markdown": [
       "Hey there! I'm doing great and ready to help you with shell commands and system administration tasks! \n",
       "\n",
       "Whether you need help with:\n",
       "- **Command syntax** and usage\n",
       "- **File operations** and text processing\n",
       "- **System monitoring** and troubleshooting\n",
       "- **Scripting** and automation\n",
       "- **Understanding command output** or error messages\n",
       "\n",
       "Just let me know what you're working on or what you'd like to learn. Feel free to share any command output, file contents, or specific problems you're facing - I'm here to help you master the command line! 🐚\n",
       "\n",
       "What can I help you with today?\n",
       "\n",
       "<details>\n",
       "\n",
       "- id: `chatcmpl-70da748f-9164-4692-849d-96e7bf0d22ae`\n",
       "- model: `claude-sonnet-4-20250514`\n",
       "- finish_reason: `stop`\n",
       "- usage: `Usage(completion_tokens=138, prompt_tokens=3099, total_tokens=3237, completion_tokens_details=None, prompt_tokens_details=PromptTokensDetailsWrapper(audio_tokens=None, cached_tokens=0, text_tokens=None, image_tokens=None), cache_creation_input_tokens=0, cache_read_input_tokens=0)`\n",
       "\n",
       "</details>"
      ],
      "text/plain": [
       "ModelResponse(id='chatcmpl-70da748f-9164-4692-849d-96e7bf0d22ae', created=1759873978, model='claude-sonnet-4-20250514', object='chat.completion', system_fingerprint=None, choices=[Choices(finish_reason='stop', index=0, message=Message(content=\"Hey there! I'm doing great and ready to help you with shell commands and system administration tasks! \\n\\nWhether you need help with:\\n- **Command syntax** and usage\\n- **File operations** and text processing\\n- **System monitoring** and troubleshooting\\n- **Scripting** and automation\\n- **Understanding command output** or error messages\\n\\nJust let me know what you're working on or what you'd like to learn. Feel free to share any command output, file contents, or specific problems you're facing - I'm here to help you master the command line! 🐚\\n\\nWhat can I help you with today?\", role='assistant', tool_calls=None, function_call=None, provider_specific_fields={'citations': None, 'thinking_blocks': None}))], usage=Usage(completion_tokens=138, prompt_tokens=3099, total_tokens=3237, completion_tokens_details=None, prompt_tokens_details=PromptTokensDetailsWrapper(audio_tokens=None, cached_tokens=0, text_tokens=None, image_tokens=None), cache_creation_input_tokens=0, cache_read_input_tokens=0))"
      ]
     },
     "execution_count": null,
     "metadata": {},
     "output_type": "execute_result"
    }
   ],
   "source": [
    "m = 'claude-sonnet-4-20250514'\n",
    "ssage = get_sage(m, search='l')\n",
    "ssage('Hi, how are ya?')"
   ]
  },
  {
   "cell_type": "code",
   "execution_count": null,
   "id": "36283633",
   "metadata": {},
   "outputs": [],
   "source": [
    "#| export\n",
    "def get_res(sage, q, opts):\n",
    "    # need to use stream=True to get search citations\n",
    "    for o in sage(q, max_steps=10, stream=True, api_base=opts.api_base, api_key=opts.api_key): ...\n",
    "    return o.choices[0].message.content"
   ]
  },
  {
   "cell_type": "code",
   "execution_count": null,
   "id": "eae5c2c7",
   "metadata": {},
   "outputs": [
    {
     "data": {
      "text/html": [
       "<pre style=\"white-space:pre;overflow-x:auto;line-height:normal;font-family:Menlo,'DejaVu Sans Mono',consolas,'Courier New',monospace\">Hello! 👋                                                                                                          \n",
       "\n",
       "I'm ShellSage, your command-line teaching assistant. I'm here to help you learn and master shell commands, system  \n",
       "administration, and anything related to working in the terminal.                                                   \n",
       "\n",
       "What would you like to work on today? You can:                                                                     \n",
       "\n",
       "<span style=\"color: #808000; text-decoration-color: #808000; font-weight: bold\"> • </span>Ask about specific commands or their usage                                                                      \n",
       "<span style=\"color: #808000; text-decoration-color: #808000; font-weight: bold\"> • </span>Share command output or file contents you need help understanding                                               \n",
       "<span style=\"color: #808000; text-decoration-color: #808000; font-weight: bold\"> • </span>Get help troubleshooting system issues                                                                          \n",
       "<span style=\"color: #808000; text-decoration-color: #808000; font-weight: bold\"> • </span>Learn about scripting and automation                                                                            \n",
       "<span style=\"color: #808000; text-decoration-color: #808000; font-weight: bold\"> • </span>Or just ask any shell/system administration question!                                                           \n",
       "\n",
       "What's on your mind?                                                                                               \n",
       "</pre>\n"
      ],
      "text/plain": [
       "Hello! 👋                                                                                                          \n",
       "\n",
       "I'm ShellSage, your command-line teaching assistant. I'm here to help you learn and master shell commands, system  \n",
       "administration, and anything related to working in the terminal.                                                   \n",
       "\n",
       "What would you like to work on today? You can:                                                                     \n",
       "\n",
       "\u001b[1;33m • \u001b[0mAsk about specific commands or their usage                                                                      \n",
       "\u001b[1;33m • \u001b[0mShare command output or file contents you need help understanding                                               \n",
       "\u001b[1;33m • \u001b[0mGet help troubleshooting system issues                                                                          \n",
       "\u001b[1;33m • \u001b[0mLearn about scripting and automation                                                                            \n",
       "\u001b[1;33m • \u001b[0mOr just ask any shell/system administration question!                                                           \n",
       "\n",
       "What's on your mind?                                                                                               \n"
      ]
     },
     "metadata": {},
     "output_type": "display_data"
    }
   ],
   "source": [
    "print(Markdown(get_res(ssage, 'Hi!', opts)))"
   ]
  },
  {
   "cell_type": "code",
   "execution_count": null,
   "id": "0f688f34",
   "metadata": {},
   "outputs": [
    {
     "data": {
      "text/html": [
       "<pre style=\"white-space:pre;overflow-x:auto;line-height:normal;font-family:Menlo,'DejaVu Sans Mono',consolas,'Courier New',monospace\">The current directory contains several configuration and documentation files for what appears to be a Python       \n",
       "project using nbdev, including Jupyter notebooks (<span style=\"color: #008080; text-decoration-color: #008080; background-color: #000000; font-weight: bold\">01_config.ipynb</span>, <span style=\"color: #008080; text-decoration-color: #008080; background-color: #000000; font-weight: bold\">index.ipynb</span>, <span style=\"color: #008080; text-decoration-color: #008080; background-color: #000000; font-weight: bold\">00_core.ipynb</span>), configuration files\n",
       "(<span style=\"color: #008080; text-decoration-color: #008080; background-color: #000000; font-weight: bold\">_quarto.yml</span>, <span style=\"color: #008080; text-decoration-color: #008080; background-color: #000000; font-weight: bold\">nbdev.yml</span>), a custom stylesheet (<span style=\"color: #008080; text-decoration-color: #008080; background-color: #000000; font-weight: bold\">styles.css</span>), and a <span style=\"color: #008080; text-decoration-color: #008080; background-color: #000000; font-weight: bold\">CNAME</span> file likely for GitHub Pages hosting - you \n",
       "could explore these files using commands like <span style=\"color: #008080; text-decoration-color: #008080; background-color: #000000; font-weight: bold\">cat</span> for text files or <span style=\"color: #008080; text-decoration-color: #008080; background-color: #000000; font-weight: bold\">jupyter notebook</span> to open the <span style=\"color: #008080; text-decoration-color: #008080; background-color: #000000; font-weight: bold\">.ipynb</span> files.     \n",
       "</pre>\n"
      ],
      "text/plain": [
       "The current directory contains several configuration and documentation files for what appears to be a Python       \n",
       "project using nbdev, including Jupyter notebooks (\u001b[1;36;40m01_config.ipynb\u001b[0m, \u001b[1;36;40mindex.ipynb\u001b[0m, \u001b[1;36;40m00_core.ipynb\u001b[0m), configuration files\n",
       "(\u001b[1;36;40m_quarto.yml\u001b[0m, \u001b[1;36;40mnbdev.yml\u001b[0m), a custom stylesheet (\u001b[1;36;40mstyles.css\u001b[0m), and a \u001b[1;36;40mCNAME\u001b[0m file likely for GitHub Pages hosting - you \n",
       "could explore these files using commands like \u001b[1;36;40mcat\u001b[0m for text files or \u001b[1;36;40mjupyter notebook\u001b[0m to open the \u001b[1;36;40m.ipynb\u001b[0m files.     \n"
      ]
     },
     "metadata": {},
     "output_type": "display_data"
    }
   ],
   "source": [
    "print(Markdown(get_res(ssage, 'Please use your view command to see what files are in the current directory. Only respond with a single paragraph', opts)))"
   ]
  },
  {
   "cell_type": "code",
   "execution_count": null,
   "id": "c3183bc8",
   "metadata": {},
   "outputs": [
    {
     "data": {
      "text/html": [
       "<pre style=\"white-space:pre;overflow-x:auto;line-height:normal;font-family:Menlo,'DejaVu Sans Mono',consolas,'Courier New',monospace\">Here are some fascinating facts about Linux that showcase its incredible impact on technology: <a href=\"https://www.geeksforgeeks.org/interesting-facts-about-linux/\" target=\"_blank\"><span style=\"color: #000080; text-decoration-color: #000080; text-decoration: underline\">*</span></a> <a href=\"https://jasoneckert.github.io/myblog/linux-fun-facts/\" target=\"_blank\"><span style=\"color: #000080; text-decoration-color: #000080; text-decoration: underline\">*</span></a> The first Linux \n",
       "kernel was only 65 KB in size, yet today <a href=\"https://www.geeksforgeeks.org/interesting-facts-about-linux/\" target=\"_blank\"><span style=\"color: #000080; text-decoration-color: #000080; text-decoration: underline\">*</span></a> <a href=\"https://jasoneckert.github.io/myblog/linux-fun-facts/\" target=\"_blank\"><span style=\"color: #000080; text-decoration-color: #000080; text-decoration: underline\">*</span></a> it has grown to over 30 million lines of code, making it <a href=\"https://www.omgubuntu.co.uk/2018/08/interesting-facts-about-linux\" target=\"_blank\"><span style=\"color: #000080; text-decoration-color: #000080; text-decoration: underline\">*</span></a> <a href=\"https://www.omgubuntu.co.uk/2018/08/interesting-facts-about-linux\" target=\"_blank\"><span style=\"color: #000080; text-decoration-color: #000080; text-decoration: underline\">*</span></a> the      \n",
       "single largest open source project on the planet. <a href=\"https://www.geeksforgeeks.org/interesting-facts-about-linux/\" target=\"_blank\"><span style=\"color: #000080; text-decoration-color: #000080; text-decoration: underline\">*</span></a> <a href=\"https://www.geeksforgeeks.org/interesting-facts-about-linux/\" target=\"_blank\"><span style=\"color: #000080; text-decoration-color: #000080; text-decoration: underline\">*</span></a> <a href=\"https://jasoneckert.github.io/myblog/linux-fun-facts/\" target=\"_blank\"><span style=\"color: #000080; text-decoration-color: #000080; text-decoration: underline\">*</span></a> All of the top 500 fastest supercomputers run Linux, and it\n",
       "powers everything from <a href=\"https://www.geeksforgeeks.org/interesting-facts-about-linux/\" target=\"_blank\"><span style=\"color: #000080; text-decoration-color: #000080; text-decoration: underline\">*</span></a> <a href=\"https://www.omgubuntu.co.uk/2018/08/interesting-facts-about-linux\" target=\"_blank\"><span style=\"color: #000080; text-decoration-color: #000080; text-decoration: underline\">*</span></a> smartphones and servers to submarines and space rockets, with <a href=\"https://www.omgubuntu.co.uk/2018/08/interesting-facts-about-linux\" target=\"_blank\"><span style=\"color: #000080; text-decoration-color: #000080; text-decoration: underline\">*</span></a> <a href=\"https://itsfoss.com/facts-linux-kernel/\" target=\"_blank\"><span style=\"color: #000080; text-decoration-color: #000080; text-decoration: underline\">*</span></a> NASA, SpaceX, and the \n",
       "International Space Station all relying on Linux. Interestingly, <a href=\"https://www.omgubuntu.co.uk/2018/08/interesting-facts-about-linux\" target=\"_blank\"><span style=\"color: #000080; text-decoration-color: #000080; text-decoration: underline\">*</span></a> Linux almost wasn't called Linux - Linus        \n",
       "Torvalds originally wanted to name it \"Freax\" but was convinced otherwise, and <a href=\"https://en.wikipedia.org/wiki/Linux\" target=\"_blank\"><span style=\"color: #000080; text-decoration-color: #000080; text-decoration: underline\">*</span></a> the film industry has embraced    \n",
       "Linux so thoroughly that over 95% of servers at major animation companies use it, starting with Titanic in 1997.   \n",
       "</pre>\n"
      ],
      "text/plain": [
       "Here are some fascinating facts about Linux that showcase its incredible impact on technology: \u001b]8;id=372766;https://www.geeksforgeeks.org/interesting-facts-about-linux/\u001b\\\u001b[4;34m*\u001b[0m\u001b]8;;\u001b\\ \u001b]8;id=642805;https://jasoneckert.github.io/myblog/linux-fun-facts/\u001b\\\u001b[4;34m*\u001b[0m\u001b]8;;\u001b\\ The first Linux \n",
       "kernel was only 65 KB in size, yet today \u001b]8;id=372766;https://www.geeksforgeeks.org/interesting-facts-about-linux/\u001b\\\u001b[4;34m*\u001b[0m\u001b]8;;\u001b\\ \u001b]8;id=642805;https://jasoneckert.github.io/myblog/linux-fun-facts/\u001b\\\u001b[4;34m*\u001b[0m\u001b]8;;\u001b\\ it has grown to over 30 million lines of code, making it \u001b]8;id=382805;https://www.omgubuntu.co.uk/2018/08/interesting-facts-about-linux\u001b\\\u001b[4;34m*\u001b[0m\u001b]8;;\u001b\\ \u001b]8;id=382805;https://www.omgubuntu.co.uk/2018/08/interesting-facts-about-linux\u001b\\\u001b[4;34m*\u001b[0m\u001b]8;;\u001b\\ the      \n",
       "single largest open source project on the planet. \u001b]8;id=372766;https://www.geeksforgeeks.org/interesting-facts-about-linux/\u001b\\\u001b[4;34m*\u001b[0m\u001b]8;;\u001b\\ \u001b]8;id=372766;https://www.geeksforgeeks.org/interesting-facts-about-linux/\u001b\\\u001b[4;34m*\u001b[0m\u001b]8;;\u001b\\ \u001b]8;id=642805;https://jasoneckert.github.io/myblog/linux-fun-facts/\u001b\\\u001b[4;34m*\u001b[0m\u001b]8;;\u001b\\ All of the top 500 fastest supercomputers run Linux, and it\n",
       "powers everything from \u001b]8;id=372766;https://www.geeksforgeeks.org/interesting-facts-about-linux/\u001b\\\u001b[4;34m*\u001b[0m\u001b]8;;\u001b\\ \u001b]8;id=382805;https://www.omgubuntu.co.uk/2018/08/interesting-facts-about-linux\u001b\\\u001b[4;34m*\u001b[0m\u001b]8;;\u001b\\ smartphones and servers to submarines and space rockets, with \u001b]8;id=382805;https://www.omgubuntu.co.uk/2018/08/interesting-facts-about-linux\u001b\\\u001b[4;34m*\u001b[0m\u001b]8;;\u001b\\ \u001b]8;id=199026;https://itsfoss.com/facts-linux-kernel/\u001b\\\u001b[4;34m*\u001b[0m\u001b]8;;\u001b\\ NASA, SpaceX, and the \n",
       "International Space Station all relying on Linux. Interestingly, \u001b]8;id=382805;https://www.omgubuntu.co.uk/2018/08/interesting-facts-about-linux\u001b\\\u001b[4;34m*\u001b[0m\u001b]8;;\u001b\\ Linux almost wasn't called Linux - Linus        \n",
       "Torvalds originally wanted to name it \"Freax\" but was convinced otherwise, and \u001b]8;id=278134;https://en.wikipedia.org/wiki/Linux\u001b\\\u001b[4;34m*\u001b[0m\u001b]8;;\u001b\\ the film industry has embraced    \n",
       "Linux so thoroughly that over 95% of servers at major animation companies use it, starting with Titanic in 1997.   \n"
      ]
     },
     "metadata": {},
     "output_type": "display_data"
    }
   ],
   "source": [
    "print(Markdown(get_res(ssage, 'Please search the web for interesting facts about Linux. Only respond with a single paragraph.', opts)))"
   ]
  },
  {
   "cell_type": "markdown",
   "id": "dff5348e",
   "metadata": {},
   "source": [
    "## Logging"
   ]
  },
  {
   "cell_type": "code",
   "execution_count": null,
   "id": "4e6e4d92",
   "metadata": {},
   "outputs": [],
   "source": [
    "#| export\n",
    "class Log: id:int; timestamp:str; query:str; response:str; model:str; mode:str\n",
    "\n",
    "log_path = Path(\"~/.shell_sage/logs/\").expanduser()\n",
    "def mk_db():\n",
    "    log_path.mkdir(parents=True, exist_ok=True)\n",
    "    db = database(log_path / \"logs.db\")\n",
    "    db.logs = db.create(Log)\n",
    "    return db"
   ]
  },
  {
   "cell_type": "code",
   "execution_count": null,
   "id": "31a6bba8",
   "metadata": {},
   "outputs": [],
   "source": [
    "# db = mk_db()\n",
    "# log = db.logs.insert(Log(timestamp=datetime.now().isoformat(), query='Hi, who are you?', model='llama3.2',\n",
    "#                          response='I am ShellSage, a command-line teaching assistant!', mode='default'))\n",
    "# log"
   ]
  },
  {
   "cell_type": "markdown",
   "id": "e8dce17a",
   "metadata": {},
   "source": [
    "## Main"
   ]
  },
  {
   "cell_type": "code",
   "execution_count": null,
   "id": "3d0579e0",
   "metadata": {},
   "outputs": [],
   "source": [
    "#| export\n",
    "@call_parse\n",
    "def main(\n",
    "    query: Param('The query to send to the LLM', str, nargs='+'),\n",
    "    v: Param(\"Print version\", action='version') = '%(prog)s ' + __version__,\n",
    "    pid: str = 'current',  # `current`, `all` or tmux pane_id (e.g. %0) for context\n",
    "    skip_system: bool = False,  # Whether to skip system information in the AI's context\n",
    "    history_lines: int = None,  # Number of history lines. Defaults to tmux scrollback history length\n",
    "    mode: str = 'default', # Available ShellSage modes: ['default', 'sassy']\n",
    "    model: str = None,  # The LLM model that will be invoked on the LLM provider\n",
    "    search: str = None, # Wheather to allow the LLM to search the internet\n",
    "    api_base: str = None,\n",
    "    api_key: str = None,\n",
    "    code_theme: str = None,  # The code theme to use when rendering ShellSage's responses\n",
    "    code_lexer: str = None,  # The lexer to use for inline code markdown blocks\n",
    "):\n",
    "    opts = get_opts(history_lines=history_lines, model=model, search=search,\n",
    "                    api_base=api_base, api_key=api_key, code_theme=code_theme,\n",
    "                    code_lexer=code_lexer, log=None)\n",
    "\n",
    "    if mode not in ['default', 'sassy']:\n",
    "        raise Exception(f\"{mode} is not valid. Must be one of the following: ['default', 'sassy']\")\n",
    "    \n",
    "    md = partial(Markdown, code_theme=opts.code_theme, inline_code_lexer=opts.code_lexer,\n",
    "                 inline_code_theme=opts.code_theme)\n",
    "    query = ' '.join(query)\n",
    "    ctxt = '' if skip_system else _sys_info()\n",
    "\n",
    "    # Get tmux history if in a tmux session\n",
    "    if os.environ.get('TMUX'):\n",
    "        if opts.history_lines is None or opts.history_lines < 0:\n",
    "            opts.history_lines = tmux_history_lim()\n",
    "        history = get_history(opts.history_lines, pid)\n",
    "        if history: ctxt += f'<terminal_history>\\n{history}\\n</terminal_history>'\n",
    "\n",
    "    # Read from stdin if available\n",
    "    if not sys.stdin.isatty():\n",
    "        ctxt += f'\\n<context>\\n{sys.stdin.read()}</context>'\n",
    "    \n",
    "    query = f'{ctxt}\\n<query>\\n{query}\\n</query>'\n",
    "\n",
    "    sage = get_sage(opts.model, mode, search=opts.search)\n",
    "    res = get_res(sage, query, opts)\n",
    "    \n",
    "    # Handle logging if the log flag is set\n",
    "    if opts.log:\n",
    "        db = mk_db()\n",
    "        db.logs.insert(Log(timestamp=datetime.now().isoformat(), query=query,\n",
    "                           response=res, model=opts.model, mode=mode))\n",
    "    print(md(res))"
   ]
  },
  {
   "cell_type": "code",
   "execution_count": null,
   "id": "c6bd74f6",
   "metadata": {},
   "outputs": [
    {
     "name": "stderr",
     "output_type": "stream",
     "text": [
      "bash: cannot set terminal process group (25798): Inappropriate ioctl for device\n",
      "bash: no job control in this shell\n"
     ]
    },
    {
     "data": {
      "text/html": [
       "<pre style=\"white-space:pre;overflow-x:auto;line-height:normal;font-family:Menlo,'DejaVu Sans Mono',consolas,'Courier New',monospace\">rsync is a fast, incremental file copy and synchronization tool that compares files (by size and mtime by default) \n",
       "and transfers only the differences, locally or over the network (commonly via SSH), making backups and mirroring   \n",
       "efficient; key options include -a “archive” mode (preserves permissions, ownership, times, symlinks), -v for       \n",
       "verbosity, -h for human-readable sizes, -n for a dry run (great for previewing changes), -z to compress data in    \n",
       "transit, -P for progress/partial transfers, and -c to verify by checksum (slower but safer); it supports powerful  \n",
       "filtering with --include/--exclude and files via --exclude-from, and understands trailing slash semantics (src/    \n",
       "syncs contents, src syncs the directory itself); use -A and -X to preserve ACLs and xattrs, -H for hard links, and \n",
       "note that preserving owners/permissions across systems may require sudo; the remote form (host:path) uses SSH by   \n",
       "default, and you can tune it with -e ssh or SSH options; <span style=\"font-weight: bold\">be cautious with --delete</span>, which removes destination files\n",
       "not present at the source; see documentation with man rsync or rsync --help for full details and examples.         \n",
       "</pre>\n"
      ],
      "text/plain": [
       "rsync is a fast, incremental file copy and synchronization tool that compares files (by size and mtime by default) \n",
       "and transfers only the differences, locally or over the network (commonly via SSH), making backups and mirroring   \n",
       "efficient; key options include -a “archive” mode (preserves permissions, ownership, times, symlinks), -v for       \n",
       "verbosity, -h for human-readable sizes, -n for a dry run (great for previewing changes), -z to compress data in    \n",
       "transit, -P for progress/partial transfers, and -c to verify by checksum (slower but safer); it supports powerful  \n",
       "filtering with --include/--exclude and files via --exclude-from, and understands trailing slash semantics (src/    \n",
       "syncs contents, src syncs the directory itself); use -A and -X to preserve ACLs and xattrs, -H for hard links, and \n",
       "note that preserving owners/permissions across systems may require sudo; the remote form (host:path) uses SSH by   \n",
       "default, and you can tune it with -e ssh or SSH options; \u001b[1mbe cautious with --delete\u001b[0m, which removes destination files\n",
       "not present at the source; see documentation with man rsync or rsync --help for full details and examples.         \n"
      ]
     },
     "metadata": {},
     "output_type": "display_data"
    }
   ],
   "source": [
    "main('Teach me about rsync. Reply with a single paragraph.', history_lines=0)"
   ]
  },
  {
   "cell_type": "code",
   "execution_count": null,
   "id": "09d57258",
   "metadata": {},
   "outputs": [],
   "source": [
    "r = f'''\n",
    "Hello, user! Here are some code blocks:\n",
    "\n",
    "```python\n",
    "for i in range(10): print(i)\n",
    "```\n",
    "\n",
    "```\n",
    "This doesn't even have a language definition!\n",
    "```\n",
    "\n",
    "```bash\n",
    "ls **/*\n",
    "```\n",
    "'''"
   ]
  },
  {
   "cell_type": "code",
   "execution_count": null,
   "id": "8a160b73",
   "metadata": {},
   "outputs": [
    {
     "data": {
      "text/plain": [
       "Log(id=36, timestamp='2025-10-07T17:51:16.549279', query='', response=\"\\nHello, user! Here are some code blocks:\\n\\n```python\\nfor i in range(10): print(i)\\n```\\n\\n```\\nThis doesn't even have a language definition!\\n```\\n\\n```bash\\nls **/*\\n```\\n\", model='', mode='')"
      ]
     },
     "execution_count": null,
     "metadata": {},
     "output_type": "execute_result"
    }
   ],
   "source": [
    "db = mk_db()\n",
    "db.logs.insert(Log(timestamp=datetime.now().isoformat(), query='', response=r, model='', mode=''))"
   ]
  },
  {
   "cell_type": "code",
   "execution_count": null,
   "id": "f093b48b",
   "metadata": {},
   "outputs": [],
   "source": [
    "#| export\n",
    "def extract_cf(idx): return re.findall(r'```(\\w+)?\\n(.*?)\\n```', mk_db().logs()[-1].response, re.DOTALL)[idx][1]"
   ]
  },
  {
   "cell_type": "code",
   "execution_count": null,
   "id": "e2489414",
   "metadata": {},
   "outputs": [
    {
     "data": {
      "text/plain": [
       "'for i in range(10): print(i)'"
      ]
     },
     "execution_count": null,
     "metadata": {},
     "output_type": "execute_result"
    }
   ],
   "source": [
    "extract_cf(0)"
   ]
  },
  {
   "cell_type": "code",
   "execution_count": null,
   "id": "3a6806f3",
   "metadata": {},
   "outputs": [],
   "source": [
    "#| export\n",
    "@call_parse\n",
    "def extract(\n",
    "    idx: int,  # Index of code block to extract\n",
    "    copy: bool = False,  # Copy to clipboard vs send to tmux\n",
    "):\n",
    "    blk = extract_cf(idx)\n",
    "    if copy: pyperclip.copy(blk)\n",
    "    else: subprocess.run(['tmux', 'send-keys', blk])"
   ]
  },
  {
   "cell_type": "markdown",
   "id": "7bf112da",
   "metadata": {},
   "source": [
    "## -"
   ]
  },
  {
   "cell_type": "code",
   "execution_count": null,
   "id": "8277fb78",
   "metadata": {},
   "outputs": [],
   "source": [
    "#|hide\n",
    "#|eval: false\n",
    "from nbdev.doclinks import nbdev_export\n",
    "nbdev_export()"
   ]
  }
 ],
 "metadata": {},
 "nbformat": 4,
 "nbformat_minor": 5
}
