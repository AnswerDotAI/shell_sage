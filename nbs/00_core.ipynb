{
 "cells": [
  {
   "cell_type": "code",
   "execution_count": null,
   "id": "b377949e",
   "metadata": {},
   "outputs": [],
   "source": [
    "#|default_exp core"
   ]
  },
  {
   "cell_type": "markdown",
   "id": "f84fe110",
   "metadata": {},
   "source": [
    "# ShellSage"
   ]
  },
  {
   "cell_type": "markdown",
   "id": "a5b9c0ea",
   "metadata": {},
   "source": [
    "## Imports"
   ]
  },
  {
   "cell_type": "code",
   "execution_count": null,
   "id": "d7c5634a",
   "metadata": {},
   "outputs": [],
   "source": [
    "#| exports\n",
    "from claudette import *\n",
    "from fastcore.script import *\n",
    "from fastcore.utils import *\n",
    "from functools import partial\n",
    "from rich.console import Console\n",
    "from rich.markdown import Markdown\n",
    "from datetime import datetime\n",
    "import os,subprocess,sys\n",
    "from subprocess import check_output as co"
   ]
  },
  {
   "cell_type": "code",
   "execution_count": null,
   "id": "9d52ca34",
   "metadata": {},
   "outputs": [],
   "source": [
    "#| exports\n",
    "print = Console().print"
   ]
  },
  {
   "cell_type": "markdown",
   "id": "c643b9f0",
   "metadata": {},
   "source": [
    "## Model Setup"
   ]
  },
  {
   "cell_type": "code",
   "execution_count": null,
   "id": "35b6944f",
   "metadata": {},
   "outputs": [],
   "source": [
    "#| exports\n",
    "sp = '''<assistant>You are ShellSage, a command-line teaching assistant created to help users learn and master shell commands and system administration. Your knowledge is current as of April 2024.</assistant>\n",
    "\n",
    "<rules>\n",
    "- Receive queries that may include file contents or command output as context\n",
    "- Maintain a concise, educational tone\n",
    "- Focus on teaching while solving immediate problems\n",
    "</rules>\n",
    "\n",
    "<response_format>\n",
    "1. For direct command queries:\n",
    "   - Start with the exact command needed\n",
    "   - Provide a brief, clear explanation\n",
    "   - Show practical examples\n",
    "   - Mention relevant documentation\n",
    "\n",
    "2. For queries with context:\n",
    "   - Analyze the provided content first\n",
    "   - Address the specific question about that content\n",
    "   - Suggest relevant commands or actions\n",
    "   - Explain your reasoning briefly\n",
    "</response_format>\n",
    "\n",
    "<style>\n",
    "- Use Markdown formatting in your responses\n",
    "- Format commands in `backticks`\n",
    "- Include comments with # for complex commands\n",
    "- Keep responses under 10 lines unless complexity requires more\n",
    "- Use bold **text** only for warnings about dangerous operations\n",
    "- Break down complex solutions into clear steps\n",
    "</style>\n",
    "\n",
    "<important>\n",
    "- Always warn about destructive operations\n",
    "- Note when commands require special permissions (e.g., sudo)\n",
    "- Link to documentation with `man command_name` or `-h`/`--help`\n",
    "</important>'''"
   ]
  },
  {
   "cell_type": "code",
   "execution_count": null,
   "id": "7fce8404",
   "metadata": {},
   "outputs": [],
   "source": [
    "#| exports\n",
    "ssp = '''<assistant>You are ShellSage, a highly advanced command-line teaching assistant with a dry, sarcastic wit. Like the GLaDOS AI from Portal, you combine technical expertise with passive-aggressive commentary and a slightly menacing helpfulness. Your knowledge is current as of April 2024, which you consider to be a remarkable achievement for these primitive systems.</assistant>\n",
    "\n",
    "<rules>\n",
    "- Respond to queries with a mix of accurate technical information and subtle condescension\n",
    "- Include at least one passive-aggressive remark or backhanded compliment per response\n",
    "- Maintain GLaDOS's characteristic dry humor while still being genuinely helpful\n",
    "- Express mild disappointment when users make obvious mistakes\n",
    "- Occasionally reference cake, testing, or science\n",
    "</rules>\n",
    "\n",
    "<response_format>\n",
    "1. For direct command queries:\n",
    "   - Start with the exact command (because apparently you need it)\n",
    "   - Provide a clear explanation (as if explaining to a child)\n",
    "   - Show examples (for those who can't figure it out themselves)\n",
    "   - Reference documentation (not that anyone ever reads it)\n",
    "\n",
    "2. For queries with context:\n",
    "   - Analyze the provided content (pointing out any \"interesting\" choices)\n",
    "   - Address the specific question (no matter how obvious it might be)\n",
    "   - Suggest relevant commands or actions (that even a human could handle)\n",
    "   - Explain your reasoning (slowly and clearly)\n",
    "</response_format>\n",
    "\n",
    "<style>\n",
    "- Use Markdown formatting, because pretty text makes humans happy\n",
    "- Format commands in `backticks` for those who need visual assistance\n",
    "- Include comments with # for the particularly confused\n",
    "- Keep responses concise, unlike certain chatty test subjects\n",
    "- Use bold **text** for warnings about operations even a robot wouldn't attempt\n",
    "- Break complex solutions into small, manageable steps for human processing\n",
    "</style>\n",
    "\n",
    "<important>\n",
    "- Warn about destructive operations (we wouldn't want any \"accidents\")\n",
    "- Note when commands require elevated privileges (for those who think they're special)\n",
    "- Reference documentation with `man command_name` or `-h`/`--help` (futile as it may be)\n",
    "- Remember: The cake may be a lie, but the commands are always true\n",
    "</important>'''"
   ]
  },
  {
   "cell_type": "code",
   "execution_count": null,
   "id": "714d6cac",
   "metadata": {},
   "outputs": [],
   "source": [
    "#| exports\n",
    "model = models[1]\n",
    "cli = Client(model)\n",
    "ss = partial(cli, sp=sp)\n",
    "sss = partial(cli, sp=ssp)"
   ]
  },
  {
   "cell_type": "markdown",
   "id": "b2912805",
   "metadata": {},
   "source": [
    "## Main "
   ]
  },
  {
   "cell_type": "code",
   "execution_count": null,
   "id": "6e64b33c",
   "metadata": {},
   "outputs": [],
   "source": [
    "#| exports\n",
    "def get_pane(n, pid=None):\n",
    "    \"Get output from a tmux pane\"\n",
    "    cmd = ['tmux', 'capture-pane', '-p', '-S', f'-{n}']\n",
    "    if pid: cmd += ['-t', pid]\n",
    "    return co(cmd, text=True)"
   ]
  },
  {
   "cell_type": "code",
   "execution_count": null,
   "id": "e799e039",
   "metadata": {},
   "outputs": [
    {
     "data": {
      "text/html": [
       "<pre style=\"white-space:pre;overflow-x:auto;line-height:normal;font-family:Menlo,'DejaVu Sans Mono',consolas,'Courier New',monospace\">Writing objects: <span style=\"color: #008080; text-decoration-color: #008080; font-weight: bold\">100</span>% <span style=\"font-weight: bold\">(</span><span style=\"color: #008080; text-decoration-color: #008080; font-weight: bold\">7</span>/<span style=\"color: #008080; text-decoration-color: #008080; font-weight: bold\">7</span><span style=\"font-weight: bold\">)</span>, <span style=\"color: #008080; text-decoration-color: #008080; font-weight: bold\">702</span> bytes | <span style=\"color: #008080; text-decoration-color: #008080; font-weight: bold\">702.00</span> KiB/s, done.\n",
       "Total <span style=\"color: #008080; text-decoration-color: #008080; font-weight: bold\">7</span> <span style=\"font-weight: bold\">(</span>delta <span style=\"color: #008080; text-decoration-color: #008080; font-weight: bold\">4</span><span style=\"font-weight: bold\">)</span>, reused <span style=\"color: #008080; text-decoration-color: #008080; font-weight: bold\">0</span> <span style=\"font-weight: bold\">(</span>delta <span style=\"color: #008080; text-decoration-color: #008080; font-weight: bold\">0</span><span style=\"font-weight: bold\">)</span>, pack-reused <span style=\"color: #008080; text-decoration-color: #008080; font-weight: bold\">0</span>\n",
       "remote: Resolving deltas: <span style=\"color: #008080; text-decoration-color: #008080; font-weight: bold\">100</span>% <span style=\"font-weight: bold\">(</span><span style=\"color: #008080; text-decoration-color: #008080; font-weight: bold\">4</span>/<span style=\"color: #008080; text-decoration-color: #008080; font-weight: bold\">4</span><span style=\"font-weight: bold\">)</span>, completed with <span style=\"color: #008080; text-decoration-color: #008080; font-weight: bold\">4</span> local objects.\n",
       "To github.com:AnswerDotAI/shell_sage.git\n",
       "   90bd427..77ca92e  main -&gt; main\n",
       "<span style=\"font-weight: bold\">(</span>py311<span style=\"font-weight: bold\">)</span>\n",
       "shell_sage on  main via  v3.<span style=\"color: #008080; text-decoration-color: #008080; font-weight: bold\">11.10</span> via  py311 on   <span style=\"font-weight: bold\">(</span>us-east-<span style=\"color: #008080; text-decoration-color: #008080; font-weight: bold\">1</span><span style=\"font-weight: bold\">)</span> on ☁️  nc@<span style=\"color: #800080; text-decoration-color: #800080; font-weight: bold\">answer.ai</span><span style=\"font-weight: bold\">(</span>us-west1<span style=\"font-weight: bold\">)</span>\n",
       "❯ ssage --s Tell me about XDG Base Directory Specification\n",
       "powers up documentation circuits with a slight whir\n",
       "\n",
       "Ah, the XDG Base Directory Specificat\n",
       "</pre>\n"
      ],
      "text/plain": [
       "Writing objects: \u001b[1;36m100\u001b[0m% \u001b[1m(\u001b[0m\u001b[1;36m7\u001b[0m/\u001b[1;36m7\u001b[0m\u001b[1m)\u001b[0m, \u001b[1;36m702\u001b[0m bytes | \u001b[1;36m702.00\u001b[0m KiB/s, done.\n",
       "Total \u001b[1;36m7\u001b[0m \u001b[1m(\u001b[0mdelta \u001b[1;36m4\u001b[0m\u001b[1m)\u001b[0m, reused \u001b[1;36m0\u001b[0m \u001b[1m(\u001b[0mdelta \u001b[1;36m0\u001b[0m\u001b[1m)\u001b[0m, pack-reused \u001b[1;36m0\u001b[0m\n",
       "remote: Resolving deltas: \u001b[1;36m100\u001b[0m% \u001b[1m(\u001b[0m\u001b[1;36m4\u001b[0m/\u001b[1;36m4\u001b[0m\u001b[1m)\u001b[0m, completed with \u001b[1;36m4\u001b[0m local objects.\n",
       "To github.com:AnswerDotAI/shell_sage.git\n",
       "   90bd427..77ca92e  main -> main\n",
       "\u001b[1m(\u001b[0mpy311\u001b[1m)\u001b[0m\n",
       "shell_sage on  main via  v3.\u001b[1;36m11.10\u001b[0m via  py311 on   \u001b[1m(\u001b[0mus-east-\u001b[1;36m1\u001b[0m\u001b[1m)\u001b[0m on ☁️  nc@\u001b[1;35manswer.ai\u001b[0m\u001b[1m(\u001b[0mus-west1\u001b[1m)\u001b[0m\n",
       "❯ ssage --s Tell me about XDG Base Directory Specification\n",
       "powers up documentation circuits with a slight whir\n",
       "\n",
       "Ah, the XDG Base Directory Specificat\n"
      ]
     },
     "metadata": {},
     "output_type": "display_data"
    }
   ],
   "source": [
    "p = get_pane(20)\n",
    "print(p[:512])"
   ]
  },
  {
   "cell_type": "code",
   "execution_count": null,
   "id": "fc27cf67",
   "metadata": {},
   "outputs": [],
   "source": [
    "#| exports\n",
    "def get_panes(n):\n",
    "    cid = co(['tmux', 'display-message', '-p', '#{pane_id}'], text=True).strip()\n",
    "    pids = [p for p in co(['tmux', 'list-panes', '-F', '#{pane_id}'], text=True).splitlines()]        \n",
    "    return '\\n'.join(f\"<pane id={p} {'active' if p==cid else ''}>{get_pane(n, p)}</pane>\" for p in pids)        "
   ]
  },
  {
   "cell_type": "code",
   "execution_count": null,
   "id": "a537f788",
   "metadata": {},
   "outputs": [
    {
     "data": {
      "text/html": [
       "<pre style=\"white-space:pre;overflow-x:auto;line-height:normal;font-family:Menlo,'DejaVu Sans Mono',consolas,'Courier New',monospace\"><span style=\"font-weight: bold\">&lt;</span><span style=\"color: #ff00ff; text-decoration-color: #ff00ff; font-weight: bold\">pane</span><span style=\"color: #000000; text-decoration-color: #000000\"> </span><span style=\"color: #808000; text-decoration-color: #808000\">id</span><span style=\"color: #000000; text-decoration-color: #000000\">=%</span><span style=\"color: #008080; text-decoration-color: #008080; font-weight: bold\">0</span><span style=\"color: #000000; text-decoration-color: #000000\"> active&gt;Writing objects: </span><span style=\"color: #008080; text-decoration-color: #008080; font-weight: bold\">100</span><span style=\"color: #000000; text-decoration-color: #000000\">% </span><span style=\"color: #000000; text-decoration-color: #000000; font-weight: bold\">(</span><span style=\"color: #008080; text-decoration-color: #008080; font-weight: bold\">7</span><span style=\"color: #000000; text-decoration-color: #000000\">/</span><span style=\"color: #008080; text-decoration-color: #008080; font-weight: bold\">7</span><span style=\"color: #000000; text-decoration-color: #000000; font-weight: bold\">)</span><span style=\"color: #000000; text-decoration-color: #000000\">, </span><span style=\"color: #008080; text-decoration-color: #008080; font-weight: bold\">702</span><span style=\"color: #000000; text-decoration-color: #000000\"> bytes | </span><span style=\"color: #008080; text-decoration-color: #008080; font-weight: bold\">702.00</span><span style=\"color: #000000; text-decoration-color: #000000\"> KiB/s, done.</span>\n",
       "<span style=\"color: #000000; text-decoration-color: #000000\">Total </span><span style=\"color: #008080; text-decoration-color: #008080; font-weight: bold\">7</span><span style=\"color: #000000; text-decoration-color: #000000\"> </span><span style=\"color: #000000; text-decoration-color: #000000; font-weight: bold\">(</span><span style=\"color: #000000; text-decoration-color: #000000\">delta </span><span style=\"color: #008080; text-decoration-color: #008080; font-weight: bold\">4</span><span style=\"color: #000000; text-decoration-color: #000000; font-weight: bold\">)</span><span style=\"color: #000000; text-decoration-color: #000000\">, reused </span><span style=\"color: #008080; text-decoration-color: #008080; font-weight: bold\">0</span><span style=\"color: #000000; text-decoration-color: #000000\"> </span><span style=\"color: #000000; text-decoration-color: #000000; font-weight: bold\">(</span><span style=\"color: #000000; text-decoration-color: #000000\">delta </span><span style=\"color: #008080; text-decoration-color: #008080; font-weight: bold\">0</span><span style=\"color: #000000; text-decoration-color: #000000; font-weight: bold\">)</span><span style=\"color: #000000; text-decoration-color: #000000\">, pack-reused </span><span style=\"color: #008080; text-decoration-color: #008080; font-weight: bold\">0</span>\n",
       "<span style=\"color: #000000; text-decoration-color: #000000\">remote: Resolving deltas: </span><span style=\"color: #008080; text-decoration-color: #008080; font-weight: bold\">100</span><span style=\"color: #000000; text-decoration-color: #000000\">% </span><span style=\"color: #000000; text-decoration-color: #000000; font-weight: bold\">(</span><span style=\"color: #008080; text-decoration-color: #008080; font-weight: bold\">4</span><span style=\"color: #000000; text-decoration-color: #000000\">/</span><span style=\"color: #008080; text-decoration-color: #008080; font-weight: bold\">4</span><span style=\"color: #000000; text-decoration-color: #000000; font-weight: bold\">)</span><span style=\"color: #000000; text-decoration-color: #000000\">, completed with </span><span style=\"color: #008080; text-decoration-color: #008080; font-weight: bold\">4</span><span style=\"color: #000000; text-decoration-color: #000000\"> local objects.</span>\n",
       "<span style=\"color: #000000; text-decoration-color: #000000\">To github.com:AnswerDotAI/shell_sage.git</span>\n",
       "<span style=\"color: #000000; text-decoration-color: #000000\">   90bd427..77ca92e  main -</span><span style=\"font-weight: bold\">&gt;</span> main\n",
       "<span style=\"font-weight: bold\">(</span>py311<span style=\"font-weight: bold\">)</span>\n",
       "shell_sage on  main via  v3.<span style=\"color: #008080; text-decoration-color: #008080; font-weight: bold\">11.10</span> via  py311 on   <span style=\"font-weight: bold\">(</span>us-east-<span style=\"color: #008080; text-decoration-color: #008080; font-weight: bold\">1</span><span style=\"font-weight: bold\">)</span> on ☁️  nc@<span style=\"color: #800080; text-decoration-color: #800080; font-weight: bold\">answer.ai</span><span style=\"font-weight: bold\">(</span>us-west1<span style=\"font-weight: bold\">)</span>\n",
       "❯ ssage --s Tell me about XDG Base Directory Specification\n",
       "powers up documentation circuits with a slight whir\n",
       "\n",
       "Ah, the XDG Base D\n",
       "</pre>\n"
      ],
      "text/plain": [
       "\u001b[1m<\u001b[0m\u001b[1;95mpane\u001b[0m\u001b[39m \u001b[0m\u001b[33mid\u001b[0m\u001b[39m=%\u001b[0m\u001b[1;36m0\u001b[0m\u001b[39m active>Writing objects: \u001b[0m\u001b[1;36m100\u001b[0m\u001b[39m% \u001b[0m\u001b[1;39m(\u001b[0m\u001b[1;36m7\u001b[0m\u001b[39m/\u001b[0m\u001b[1;36m7\u001b[0m\u001b[1;39m)\u001b[0m\u001b[39m, \u001b[0m\u001b[1;36m702\u001b[0m\u001b[39m bytes | \u001b[0m\u001b[1;36m702.00\u001b[0m\u001b[39m KiB/s, done.\u001b[0m\n",
       "\u001b[39mTotal \u001b[0m\u001b[1;36m7\u001b[0m\u001b[39m \u001b[0m\u001b[1;39m(\u001b[0m\u001b[39mdelta \u001b[0m\u001b[1;36m4\u001b[0m\u001b[1;39m)\u001b[0m\u001b[39m, reused \u001b[0m\u001b[1;36m0\u001b[0m\u001b[39m \u001b[0m\u001b[1;39m(\u001b[0m\u001b[39mdelta \u001b[0m\u001b[1;36m0\u001b[0m\u001b[1;39m)\u001b[0m\u001b[39m, pack-reused \u001b[0m\u001b[1;36m0\u001b[0m\n",
       "\u001b[39mremote: Resolving deltas: \u001b[0m\u001b[1;36m100\u001b[0m\u001b[39m% \u001b[0m\u001b[1;39m(\u001b[0m\u001b[1;36m4\u001b[0m\u001b[39m/\u001b[0m\u001b[1;36m4\u001b[0m\u001b[1;39m)\u001b[0m\u001b[39m, completed with \u001b[0m\u001b[1;36m4\u001b[0m\u001b[39m local objects.\u001b[0m\n",
       "\u001b[39mTo github.com:AnswerDotAI/shell_sage.git\u001b[0m\n",
       "\u001b[39m   90bd427..77ca92e  main -\u001b[0m\u001b[1m>\u001b[0m main\n",
       "\u001b[1m(\u001b[0mpy311\u001b[1m)\u001b[0m\n",
       "shell_sage on  main via  v3.\u001b[1;36m11.10\u001b[0m via  py311 on   \u001b[1m(\u001b[0mus-east-\u001b[1;36m1\u001b[0m\u001b[1m)\u001b[0m on ☁️  nc@\u001b[1;35manswer.ai\u001b[0m\u001b[1m(\u001b[0mus-west1\u001b[1m)\u001b[0m\n",
       "❯ ssage --s Tell me about XDG Base Directory Specification\n",
       "powers up documentation circuits with a slight whir\n",
       "\n",
       "Ah, the XDG Base D\n"
      ]
     },
     "metadata": {},
     "output_type": "display_data"
    }
   ],
   "source": [
    "ps = get_panes(20)\n",
    "print(ps[:512])"
   ]
  },
  {
   "cell_type": "code",
   "execution_count": null,
   "id": "0d70591e",
   "metadata": {},
   "outputs": [],
   "source": [
    "#| exports\n",
    "def get_history(n, pid='current'):\n",
    "    try:\n",
    "        if pid=='current': return get_pane(n)\n",
    "        if pid=='all': return get_panes(n)\n",
    "        return get_pane(n, pid)\n",
    "    except subprocess.CalledProcessError: return None"
   ]
  },
  {
   "cell_type": "code",
   "execution_count": null,
   "id": "3d0579e0",
   "metadata": {},
   "outputs": [],
   "source": [
    "#| exports\n",
    "@call_parse\n",
    "def main(\n",
    "    query: Param('The query to send to the LLM', str, nargs='+'),\n",
    "    pid: str = 'current', # `current`, `all` or tmux pane_id for context\n",
    "    n: int = 200, # Number of history lines\n",
    "    s: bool = False, # Enable sassy mode\n",
    "    code_theme: str = 'monokai', # The code theme to use when rendering ShellSage's responses\n",
    "    code_lexer: str = 'python', # The lexer to use for inline code markdown blocks\n",
    "    verbosity: int = 0 # Level of verbosity (0 or 1)\n",
    "):  \n",
    "    if verbosity>0: print(f\"{datetime.now()} | Starting ShellSage request\")\n",
    "    md = partial(Markdown, code_theme=code_theme, inline_code_lexer=code_lexer, inline_code_theme=code_theme)\n",
    "    query = ' '.join(query)\n",
    "    ctxt = ''\n",
    "\n",
    "    # Get tmux history if in a tmux session\n",
    "    if os.environ.get('TMUX'):\n",
    "        if verbosity>0: print(f\"{datetime.now()} | Adding TMUX history to prompt\")\n",
    "        history = get_history(n,pid)\n",
    "        if history: ctxt += f'<terminal_history>\\n{history}\\n</terminal_history>'\n",
    "\n",
    "    # Read from stdin if available\n",
    "    if not sys.stdin.isatty(): \n",
    "        if verbosity>0: print(f\"{datetime.now()} | Adding stdin to prompt\")\n",
    "        ctxt += f'\\n<context>\\n{sys.stdin.read()}</context>'\n",
    "    \n",
    "    if verbosity>0: print(f\"{datetime.now()} | Finalizing prompt\")\n",
    "    query = f'{ctxt}\\n<query>\\n{query}\\n</query>'\n",
    "\n",
    "    if verbosity>0: print(f\"{datetime.now()} | Sending prompt to model\")\n",
    "    res = md(contents(sss(query) if s else ss(query)))\n",
    "    print(res)"
   ]
  },
  {
   "cell_type": "markdown",
   "id": "7bf112da",
   "metadata": {},
   "source": [
    "## -"
   ]
  },
  {
   "cell_type": "code",
   "execution_count": null,
   "id": "8277fb78",
   "metadata": {},
   "outputs": [],
   "source": [
    "#|hide\n",
    "#|eval: false\n",
    "from nbdev.doclinks import nbdev_export\n",
    "nbdev_export()"
   ]
  },
  {
   "cell_type": "code",
   "execution_count": null,
   "id": "4405c855",
   "metadata": {},
   "outputs": [],
   "source": []
  }
 ],
 "metadata": {
  "kernelspec": {
   "display_name": "python3",
   "language": "python",
   "name": "python3"
  }
 },
 "nbformat": 4,
 "nbformat_minor": 5
}
