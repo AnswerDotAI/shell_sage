{
 "cells": [
  {
   "cell_type": "markdown",
   "id": "b7d64e04",
   "metadata": {},
   "source": [
    "# Core\n",
    "\n",
    "Core functionality for ShellSage CLI"
   ]
  },
  {
   "cell_type": "code",
   "execution_count": null,
   "id": "ced9f8f5",
   "metadata": {},
   "outputs": [],
   "source": [
    "#|default_exp core"
   ]
  },
  {
   "cell_type": "code",
   "execution_count": null,
   "id": "3756f4ac",
   "metadata": {},
   "outputs": [],
   "source": [
    "#|export\n",
    "from fastcore.script import *\n",
    "from pathlib import Path\n",
    "import os\n",
    "import sys\n",
    "import shell_sage.utils as utils"
   ]
  },
  {
   "cell_type": "code",
   "execution_count": null,
   "id": "c1f0af1c",
   "metadata": {},
   "outputs": [],
   "source": [
    "#|export\n",
    "def main(\n",
    "    query: Param(\"The query to send to the LLM\", str, nargs='*') = None,  # Make query optional\n",
    "    pid: Param(\"Current, all or tmux pane_id for context\", str) = 'current',\n",
    "    skip_system: Param(\"Skip system information in AI context\", store_true) = False,\n",
    "    history_lines: Param(\"Number of history lines\", int) = None,\n",
    "    s: Param(\"Enable sassy mode\", store_true) = False,\n",
    "    c: Param(\"Enable command mode\", store_true) = False,\n",
    "    provider: Param(\"The LLM Provider\", str) = None,\n",
    "    model: Param(\"The LLM model\", str) = None,\n",
    "    base_url: Param(\"Base URL for API\", str) = None,\n",
    "    api_key: Param(\"API key\", str) = None,\n",
    "    code_theme: Param(\"Code theme for responses\", str) = None,\n",
    "    code_lexer: Param(\"Lexer for inline code\", str) = None,\n",
    "    index_man: Param(\"Index all man pages\", store_true) = False,\n",
    "    man_query: Param(\"Query indexed man pages\", str) = None,\n",
    "    db_path: Param(\"Path to LanceDB database\", str) = \"man_index.lance\",\n",
    "    verbosity: Param(\"Level of verbosity (0 or 1)\", int) = 0\n",
    "):\n",
    "    \"\"\"ShellSage CLI for interacting with LLMs and querying man pages.\"\"\"\n",
    "    # Handle RAG operations first\n",
    "    if index_man:\n",
    "        import shell_sage.rag as rag\n",
    "        rag.index_cmd(db_path)\n",
    "        return\n",
    "        \n",
    "    if man_query:\n",
    "        import shell_sage.rag as rag\n",
    "        rag.search_cmd(man_query, db_path=db_path)\n",
    "        return\n",
    "\n",
    "    # Require query for normal operation\n",
    "    if not query:\n",
    "        raise ValueError(\"Query is required unless using --index-man or --man-query\")\n",
    "    \n",
    "    opts = utils.get_opts(history_lines=history_lines, provider=provider, model=model,\n",
    "                   base_url=base_url, api_key=api_key, code_theme=code_theme,\n",
    "                   code_lexer=code_lexer)\n",
    "\n",
    "    mode = 'default'\n",
    "    if s: mode = 'sassy'\n",
    "    if c: mode = 'command'\n",
    "\n",
    "    context = utils.get_context(pid=pid, skip_system=skip_system)\n",
    "    response = utils.get_response(query, context, mode=mode, **opts)\n",
    "    print(response)"
   ]
  }
 ],
 "metadata": {},
 "nbformat": 4,
 "nbformat_minor": 5
}
